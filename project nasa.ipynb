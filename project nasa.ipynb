{
 "cells": [
  {
   "cell_type": "code",
   "execution_count": null,
   "id": "1ef127a1",
   "metadata": {},
   "outputs": [],
   "source": [
    "import numpy as np\n",
    "import pandas as pd\n",
    "import matplotlib.pyplot as plt\n",
    "import seaborn as sns\n",
    "from sklearn.model_selection import train_test_split\n",
    "from sklearn.preprocessing import StandardScaler\n",
    "from sklearn.compose import ColumnTransformer\n",
    "from sklearn.pipeline import make_pipeline\n",
    "from sklearn.impute import SimpleImputer\n",
    "from sklearn.ensemble import RandomForestClassifier\n",
    "from sklearn.metrics import classification_report, confusion_matrix, accuracy_score\n",
    "from sklearn.ensemble import GradientBoostingClassifier\n",
    "from sklearn.linear_model import LogisticRegression\n",
    "from sklearn.svm import SVC\n",
    "from sklearn.tree import DecisionTreeClassifier\n",
    "from sklearn.neighbors import KNeighborsClassifier\n",
    "from sklearn.naive_bayes import GaussianNB\n",
    "from xgboost import XGBClassifier\n",
    "from sklearn.ensemble import StackingClassifier\n",
    "from lightgbm import LGBMClassifier\n",
    "from sklearn.model_selection import GridSearchCV\n",
    "import joblib\n"
   ]
  },
  {
   "cell_type": "code",
   "execution_count": 335,
   "id": "f963db49",
   "metadata": {},
   "outputs": [
    {
     "data": {
      "application/vnd.microsoft.datawrangler.viewer.v0+json": {
       "columns": [
        {
         "name": "index",
         "rawType": "int64",
         "type": "integer"
        },
        {
         "name": "default_flag",
         "rawType": "int64",
         "type": "integer"
        },
        {
         "name": "disposition",
         "rawType": "object",
         "type": "string"
        },
        {
         "name": "disp_refname",
         "rawType": "object",
         "type": "string"
        },
        {
         "name": "sy_snum",
         "rawType": "int64",
         "type": "integer"
        },
        {
         "name": "sy_pnum",
         "rawType": "int64",
         "type": "integer"
        },
        {
         "name": "sy_mnum",
         "rawType": "int64",
         "type": "integer"
        },
        {
         "name": "cb_flag",
         "rawType": "int64",
         "type": "integer"
        },
        {
         "name": "discoverymethod",
         "rawType": "object",
         "type": "string"
        },
        {
         "name": "disc_year",
         "rawType": "int64",
         "type": "integer"
        },
        {
         "name": "disc_refname",
         "rawType": "object",
         "type": "string"
        },
        {
         "name": "disc_pubdate",
         "rawType": "object",
         "type": "string"
        },
        {
         "name": "disc_locale",
         "rawType": "object",
         "type": "string"
        },
        {
         "name": "disc_facility",
         "rawType": "object",
         "type": "string"
        },
        {
         "name": "disc_telescope",
         "rawType": "object",
         "type": "string"
        },
        {
         "name": "disc_instrument",
         "rawType": "object",
         "type": "string"
        },
        {
         "name": "rv_flag",
         "rawType": "int64",
         "type": "integer"
        },
        {
         "name": "pul_flag",
         "rawType": "int64",
         "type": "integer"
        },
        {
         "name": "ptv_flag",
         "rawType": "int64",
         "type": "integer"
        },
        {
         "name": "tran_flag",
         "rawType": "int64",
         "type": "integer"
        },
        {
         "name": "ast_flag",
         "rawType": "int64",
         "type": "integer"
        },
        {
         "name": "obm_flag",
         "rawType": "int64",
         "type": "integer"
        },
        {
         "name": "micro_flag",
         "rawType": "int64",
         "type": "integer"
        },
        {
         "name": "etv_flag",
         "rawType": "int64",
         "type": "integer"
        },
        {
         "name": "ima_flag",
         "rawType": "int64",
         "type": "integer"
        },
        {
         "name": "dkin_flag",
         "rawType": "int64",
         "type": "integer"
        },
        {
         "name": "soltype",
         "rawType": "object",
         "type": "string"
        },
        {
         "name": "pl_controv_flag",
         "rawType": "int64",
         "type": "integer"
        },
        {
         "name": "pl_refname",
         "rawType": "object",
         "type": "string"
        },
        {
         "name": "pl_orbper",
         "rawType": "float64",
         "type": "float"
        },
        {
         "name": "pl_orbsmax",
         "rawType": "float64",
         "type": "float"
        },
        {
         "name": "pl_rade",
         "rawType": "float64",
         "type": "float"
        },
        {
         "name": "pl_radj",
         "rawType": "float64",
         "type": "float"
        },
        {
         "name": "pl_masse",
         "rawType": "float64",
         "type": "float"
        },
        {
         "name": "pl_massj",
         "rawType": "float64",
         "type": "float"
        },
        {
         "name": "pl_msinie",
         "rawType": "float64",
         "type": "float"
        },
        {
         "name": "pl_msinij",
         "rawType": "float64",
         "type": "float"
        },
        {
         "name": "pl_cmasse",
         "rawType": "float64",
         "type": "float"
        },
        {
         "name": "pl_cmassj",
         "rawType": "float64",
         "type": "float"
        },
        {
         "name": "pl_bmasse",
         "rawType": "float64",
         "type": "float"
        },
        {
         "name": "pl_bmassj",
         "rawType": "float64",
         "type": "float"
        },
        {
         "name": "pl_bmassprov",
         "rawType": "object",
         "type": "unknown"
        },
        {
         "name": "pl_dens",
         "rawType": "float64",
         "type": "float"
        },
        {
         "name": "pl_orbeccen",
         "rawType": "float64",
         "type": "float"
        },
        {
         "name": "pl_insol",
         "rawType": "float64",
         "type": "float"
        },
        {
         "name": "pl_eqt",
         "rawType": "float64",
         "type": "float"
        },
        {
         "name": "pl_orbincl",
         "rawType": "float64",
         "type": "float"
        },
        {
         "name": "pl_tranmid",
         "rawType": "float64",
         "type": "float"
        },
        {
         "name": "pl_tsystemref",
         "rawType": "object",
         "type": "unknown"
        },
        {
         "name": "ttv_flag",
         "rawType": "int64",
         "type": "integer"
        },
        {
         "name": "pl_imppar",
         "rawType": "float64",
         "type": "float"
        },
        {
         "name": "pl_trandep",
         "rawType": "float64",
         "type": "float"
        },
        {
         "name": "pl_trandur",
         "rawType": "float64",
         "type": "float"
        },
        {
         "name": "pl_ratdor",
         "rawType": "float64",
         "type": "float"
        },
        {
         "name": "pl_ratror",
         "rawType": "float64",
         "type": "float"
        },
        {
         "name": "pl_occdep",
         "rawType": "float64",
         "type": "float"
        },
        {
         "name": "pl_orbtper",
         "rawType": "float64",
         "type": "float"
        },
        {
         "name": "pl_orblper",
         "rawType": "float64",
         "type": "float"
        },
        {
         "name": "pl_rvamp",
         "rawType": "float64",
         "type": "float"
        },
        {
         "name": "pl_projobliq",
         "rawType": "float64",
         "type": "float"
        },
        {
         "name": "pl_trueobliq",
         "rawType": "float64",
         "type": "float"
        },
        {
         "name": "st_refname",
         "rawType": "object",
         "type": "string"
        },
        {
         "name": "st_spectype",
         "rawType": "object",
         "type": "unknown"
        },
        {
         "name": "st_teff",
         "rawType": "float64",
         "type": "float"
        },
        {
         "name": "st_rad",
         "rawType": "float64",
         "type": "float"
        },
        {
         "name": "st_mass",
         "rawType": "float64",
         "type": "float"
        },
        {
         "name": "st_met",
         "rawType": "float64",
         "type": "float"
        },
        {
         "name": "st_metratio",
         "rawType": "object",
         "type": "string"
        },
        {
         "name": "st_lum",
         "rawType": "float64",
         "type": "float"
        },
        {
         "name": "st_logg",
         "rawType": "float64",
         "type": "float"
        },
        {
         "name": "st_age",
         "rawType": "float64",
         "type": "float"
        },
        {
         "name": "st_dens",
         "rawType": "float64",
         "type": "float"
        },
        {
         "name": "st_vsin",
         "rawType": "float64",
         "type": "float"
        },
        {
         "name": "st_rotp",
         "rawType": "float64",
         "type": "float"
        },
        {
         "name": "st_radv",
         "rawType": "float64",
         "type": "float"
        },
        {
         "name": "sy_refname",
         "rawType": "object",
         "type": "string"
        },
        {
         "name": "rastr",
         "rawType": "object",
         "type": "string"
        },
        {
         "name": "ra",
         "rawType": "float64",
         "type": "float"
        },
        {
         "name": "decstr",
         "rawType": "object",
         "type": "string"
        },
        {
         "name": "dec",
         "rawType": "float64",
         "type": "float"
        },
        {
         "name": "glat",
         "rawType": "float64",
         "type": "float"
        },
        {
         "name": "glon",
         "rawType": "float64",
         "type": "float"
        },
        {
         "name": "elat",
         "rawType": "float64",
         "type": "float"
        },
        {
         "name": "elon",
         "rawType": "float64",
         "type": "float"
        },
        {
         "name": "sy_pm",
         "rawType": "float64",
         "type": "float"
        },
        {
         "name": "sy_pmra",
         "rawType": "float64",
         "type": "float"
        },
        {
         "name": "sy_pmdec",
         "rawType": "float64",
         "type": "float"
        },
        {
         "name": "sy_dist",
         "rawType": "float64",
         "type": "float"
        },
        {
         "name": "sy_plx",
         "rawType": "float64",
         "type": "float"
        },
        {
         "name": "sy_bmag",
         "rawType": "float64",
         "type": "float"
        },
        {
         "name": "sy_vmag",
         "rawType": "float64",
         "type": "float"
        },
        {
         "name": "sy_jmag",
         "rawType": "float64",
         "type": "float"
        },
        {
         "name": "sy_hmag",
         "rawType": "float64",
         "type": "float"
        },
        {
         "name": "sy_kmag",
         "rawType": "float64",
         "type": "float"
        },
        {
         "name": "sy_umag",
         "rawType": "float64",
         "type": "float"
        },
        {
         "name": "sy_gmag",
         "rawType": "float64",
         "type": "float"
        },
        {
         "name": "sy_rmag",
         "rawType": "float64",
         "type": "float"
        },
        {
         "name": "sy_imag",
         "rawType": "float64",
         "type": "float"
        },
        {
         "name": "sy_zmag",
         "rawType": "float64",
         "type": "float"
        },
        {
         "name": "sy_w1mag",
         "rawType": "float64",
         "type": "float"
        },
        {
         "name": "sy_w2mag",
         "rawType": "float64",
         "type": "float"
        },
        {
         "name": "sy_w3mag",
         "rawType": "float64",
         "type": "float"
        },
        {
         "name": "sy_w4mag",
         "rawType": "float64",
         "type": "float"
        },
        {
         "name": "sy_gaiamag",
         "rawType": "float64",
         "type": "float"
        },
        {
         "name": "sy_icmag",
         "rawType": "float64",
         "type": "float"
        },
        {
         "name": "sy_tmag",
         "rawType": "float64",
         "type": "float"
        },
        {
         "name": "sy_kepmag",
         "rawType": "float64",
         "type": "float"
        },
        {
         "name": "rowupdate",
         "rawType": "object",
         "type": "string"
        },
        {
         "name": "pl_pubdate",
         "rawType": "object",
         "type": "string"
        },
        {
         "name": "releasedate",
         "rawType": "object",
         "type": "string"
        },
        {
         "name": "pl_nnotes",
         "rawType": "int64",
         "type": "integer"
        },
        {
         "name": "k2_campaigns",
         "rawType": "object",
         "type": "string"
        },
        {
         "name": "k2_campaigns_num",
         "rawType": "float64",
         "type": "float"
        }
       ],
       "ref": "2ba4b0b8-1697-470e-907c-332112707beb",
       "rows": [
        [
         "0",
         "0",
         "CONFIRMED",
         "Espinoza et al. 2016",
         "1",
         "1",
         "0",
         "0",
         "Transit",
         "2016",
         "<a refstr=ESPINOZA_ET_AL__2016 href=https://ui.adsabs.harvard.edu/abs/2016ApJ...830...43E/abstract target=ref>Espinoza et al. 2016</a>",
         "2016-10",
         "Space",
         "K2",
         "0.95 m Kepler Telescope",
         "Kepler CCD Array",
         "1",
         "0",
         "0",
         "1",
         "0",
         "0",
         "0",
         "0",
         "0",
         "0",
         "Published Confirmed",
         "0",
         "<a refstr=MAYO_ET_AL__2018 href=https://ui.adsabs.harvard.edu/abs/2018AJ....155..136M/abstract target=ref>Mayo et al. 2018</a>",
         "41.688644",
         null,
         "2.35545351",
         "0.21013949",
         null,
         null,
         null,
         null,
         null,
         null,
         null,
         null,
         null,
         null,
         null,
         null,
         null,
         "89.52554",
         "2457068.52877",
         null,
         "0",
         null,
         null,
         null,
         "54.721028",
         "0.022586",
         null,
         null,
         null,
         null,
         null,
         null,
         "<a refstr=MAYO_ET_AL__2018 href=https://ui.adsabs.harvard.edu/abs/2018AJ....155..136M/abstract target=ref>Mayo et al. 2018</a>",
         null,
         "5703.0",
         "0.956122",
         "0.963861",
         "-0.06",
         "[Fe/H]",
         null,
         "4.38",
         null,
         null,
         null,
         null,
         null,
         "<a refstr=STASSUN_ET_AL__2019 href=https://ui.adsabs.harvard.edu/abs/2019AJ....158..138S/abstract target=ref>TICv8</a>",
         "03h34m36.27s",
         "53.6511231",
         "+20d35m56.47s",
         "20.5990205",
         "-28.05348",
         "166.7966",
         "1.31208",
         "56.28872",
         "63.0539428",
         "36.5714",
         "-51.3647",
         "179.461",
         "5.54366",
         "11.765",
         "10.849",
         "9.770001",
         "9.432",
         "9.368",
         null,
         null,
         null,
         null,
         null,
         "9.31",
         "9.344",
         "9.332",
         "8.976",
         "10.8644",
         null,
         "10.4021",
         "11.04",
         "2018-04-25",
         "2018-03",
         "2018-02-15",
         "1",
         "4",
         "1.0"
        ],
        [
         "1",
         "0",
         "CONFIRMED",
         "Espinoza et al. 2016",
         "1",
         "1",
         "0",
         "0",
         "Transit",
         "2016",
         "<a refstr=ESPINOZA_ET_AL__2016 href=https://ui.adsabs.harvard.edu/abs/2016ApJ...830...43E/abstract target=ref>Espinoza et al. 2016</a>",
         "2016-10",
         "Space",
         "K2",
         "0.95 m Kepler Telescope",
         "Kepler CCD Array",
         "1",
         "0",
         "0",
         "1",
         "0",
         "0",
         "0",
         "0",
         "0",
         "0",
         "Published Confirmed",
         "0",
         "<a refstr=ESPINOZA_ET_AL__2016 href=https://ui.adsabs.harvard.edu/abs/2016ApJ...830...43E/abstract target=ref>Espinoza et al. 2016</a>",
         "41.6855",
         "0.241",
         "2.23",
         "0.19894727",
         "16.3",
         "0.05128528",
         null,
         null,
         null,
         null,
         "16.3",
         "0.05128528",
         "Mass",
         "7.89",
         "0.0",
         null,
         "546.0",
         "89.55",
         "2457151.9021",
         "BJD-TDB",
         "0",
         null,
         null,
         null,
         "55.8",
         "0.02204",
         null,
         null,
         null,
         "3.1",
         null,
         null,
         "<a refstr=ESPINOZA_ET_AL__2016 href=https://ui.adsabs.harvard.edu/abs/2016ApJ...830...43E/abstract target=ref>Espinoza et al. 2016</a>",
         "G",
         "5766.0",
         "0.928",
         "0.961",
         "-0.15",
         "[Fe/H]",
         "-0.05552",
         "4.5",
         "3.34",
         "1.7",
         "3.3",
         null,
         "-20.33638",
         "<a refstr=STASSUN_ET_AL__2019 href=https://ui.adsabs.harvard.edu/abs/2019AJ....158..138S/abstract target=ref>TICv8</a>",
         "03h34m36.27s",
         "53.6511231",
         "+20d35m56.47s",
         "20.5990205",
         "-28.05348",
         "166.7966",
         "1.31208",
         "56.28872",
         "63.0539428",
         "36.5714",
         "-51.3647",
         "179.461",
         "5.54366",
         "11.765",
         "10.849",
         "9.770001",
         "9.432",
         "9.368",
         null,
         null,
         null,
         null,
         null,
         "9.31",
         "9.344",
         "9.332",
         "8.976",
         "10.8644",
         null,
         "10.4021",
         "11.04",
         "2018-04-25",
         "2016-10",
         "2016-07-28",
         "1",
         "4",
         "1.0"
        ],
        [
         "2",
         "1",
         "CONFIRMED",
         "Espinoza et al. 2016",
         "1",
         "1",
         "0",
         "0",
         "Transit",
         "2016",
         "<a refstr=ESPINOZA_ET_AL__2016 href=https://ui.adsabs.harvard.edu/abs/2016ApJ...830...43E/abstract target=ref>Espinoza et al. 2016</a>",
         "2016-10",
         "Space",
         "K2",
         "0.95 m Kepler Telescope",
         "Kepler CCD Array",
         "1",
         "0",
         "0",
         "1",
         "0",
         "0",
         "0",
         "0",
         "0",
         "0",
         "Published Confirmed",
         "0",
         "<a refstr=STASSUN_ET_AL__2017 href=https://ui.adsabs.harvard.edu/abs/2017AJ....153..136S/abstract target=ref>Stassun et al. 2017</a>",
         "41.6855",
         null,
         "2.57807",
         "0.23",
         "22.2481",
         "0.07",
         null,
         null,
         null,
         null,
         "22.2481",
         "0.07",
         "Mass",
         null,
         "0.0",
         null,
         null,
         "89.55",
         null,
         null,
         "0",
         null,
         "0.049",
         null,
         "55.8",
         null,
         null,
         null,
         null,
         "3.1",
         null,
         null,
         "<a refstr=STASSUN_ET_AL__2017 href=https://ui.adsabs.harvard.edu/abs/2017AJ....153..136S/abstract target=ref>Stassun et al. 2017</a>",
         null,
         "5766.0",
         "1.08",
         "1.67",
         "-0.15",
         "[Fe/H]",
         null,
         "4.5",
         null,
         "1.89",
         null,
         null,
         null,
         "<a refstr=STASSUN_ET_AL__2019 href=https://ui.adsabs.harvard.edu/abs/2019AJ....158..138S/abstract target=ref>TICv8</a>",
         "03h34m36.27s",
         "53.6511231",
         "+20d35m56.47s",
         "20.5990205",
         "-28.05348",
         "166.7966",
         "1.31208",
         "56.28872",
         "63.0539428",
         "36.5714",
         "-51.3647",
         "179.461",
         "5.54366",
         "11.765",
         "10.849",
         "9.770001",
         "9.432",
         "9.368",
         null,
         null,
         null,
         null,
         null,
         "9.31",
         "9.344",
         "9.332",
         "8.976",
         "10.8644",
         null,
         "10.4021",
         "11.04",
         "2018-04-25",
         "2017-03",
         "2018-04-26",
         "1",
         "4",
         "1.0"
        ],
        [
         "3",
         "0",
         "CANDIDATE",
         "Livingston et al. 2018",
         "1",
         "0",
         "0",
         "0",
         "Transit",
         "2018",
         "<a refstr=MAYO_ET_AL__2018 href=https://ui.adsabs.harvard.edu/abs/2018AJ....155..136M/abstract target=ref>Mayo et al. 2018</a>",
         "2018-03",
         "Space",
         "K2",
         "0.95 m Kepler Telescope",
         "Kepler CCD Array",
         "0",
         "0",
         "0",
         "1",
         "0",
         "0",
         "0",
         "0",
         "0",
         "0",
         "Published Candidate",
         "0",
         "<a refstr=MAYO_ET_AL__2018 href=https://ui.adsabs.harvard.edu/abs/2018AJ....155..136M/abstract target=ref>Mayo et al. 2018</a>",
         "2.302368",
         null,
         "1.31258765",
         "0.12",
         null,
         null,
         null,
         null,
         null,
         null,
         null,
         null,
         null,
         null,
         null,
         null,
         null,
         "87.44384",
         "2457583.16206",
         "BJD",
         "0",
         null,
         null,
         null,
         "12.619867",
         "0.016925",
         null,
         null,
         null,
         null,
         null,
         null,
         "<a refstr=MAYO_ET_AL__2018 href=https://ui.adsabs.harvard.edu/abs/2018AJ....155..136M/abstract target=ref>Mayo et al. 2018</a>",
         null,
         "4720.0",
         "0.710995",
         null,
         "-0.06",
         "[Fe/H]",
         null,
         "4.5",
         null,
         null,
         null,
         null,
         null,
         "<a refstr=STASSUN_ET_AL__2019 href=https://ui.adsabs.harvard.edu/abs/2019AJ....158..138S/abstract target=ref>TICv8</a>",
         "12h15m23.10s",
         "183.8462454",
         "-06d16m05.98s",
         "-6.2683289",
         "55.48289",
         "286.98079",
         "-4.22377",
         "186.01709",
         "73.41376",
         "-70.2608",
         "-21.2838",
         "97.1795",
         "10.2616",
         "12.737",
         "11.727",
         "9.873",
         "9.391",
         "9.22",
         null,
         null,
         null,
         null,
         null,
         "9.186",
         "9.243",
         "9.183",
         "8.2",
         "11.3995",
         null,
         "10.7606",
         "11.363",
         "2018-02-15",
         "2018-03",
         "2018-02-15",
         "0",
         "10",
         "1.0"
        ],
        [
         "4",
         "1",
         "CANDIDATE",
         "Livingston et al. 2018",
         "1",
         "0",
         "0",
         "0",
         "Transit",
         "2018",
         "<a refstr=MAYO_ET_AL__2018 href=https://ui.adsabs.harvard.edu/abs/2018AJ....155..136M/abstract target=ref>Mayo et al. 2018</a>",
         "2018-03",
         "Space",
         "K2",
         "0.95 m Kepler Telescope",
         "Kepler CCD Array",
         "0",
         "0",
         "0",
         "1",
         "0",
         "0",
         "0",
         "0",
         "0",
         "0",
         "Published Candidate",
         "0",
         "<a refstr=LIVINGSTON_ET_AL__2018 href=https://ui.adsabs.harvard.edu/abs/2018AJ....156...78L/abstract target=ref>Livingston et al. 2018</a>",
         "2.30183",
         null,
         "1.12",
         "0.0999",
         null,
         null,
         null,
         null,
         null,
         null,
         null,
         null,
         null,
         null,
         null,
         null,
         "1054.0",
         null,
         "2457583.1688",
         "BJD",
         "0",
         "0.42",
         "2.268",
         "1.9008",
         "11.8",
         "0.0144",
         null,
         null,
         null,
         null,
         null,
         null,
         "<a refstr=STASSUN_ET_AL__2019 href=https://ui.adsabs.harvard.edu/abs/2019AJ....158..138S/abstract target=ref>TICv8</a>",
         null,
         "4616.52",
         "0.762602",
         "0.73",
         "-0.03",
         "[M/H]",
         "-0.62345",
         "4.53679",
         null,
         "2.320574",
         null,
         null,
         null,
         "<a refstr=STASSUN_ET_AL__2019 href=https://ui.adsabs.harvard.edu/abs/2019AJ....158..138S/abstract target=ref>TICv8</a>",
         "12h15m23.10s",
         "183.8462454",
         "-06d16m05.98s",
         "-6.2683289",
         "55.48289",
         "286.98079",
         "-4.22377",
         "186.01709",
         "73.41376",
         "-70.2608",
         "-21.2838",
         "97.1795",
         "10.2616",
         "12.737",
         "11.727",
         "9.873",
         "9.391",
         "9.22",
         null,
         null,
         null,
         null,
         null,
         "9.186",
         "9.243",
         "9.183",
         "8.2",
         "11.3995",
         null,
         "10.7606",
         "11.363",
         "2018-08-02",
         "2018-08",
         "2018-08-02",
         "0",
         "10",
         "1.0"
        ]
       ],
       "shape": {
        "columns": 112,
        "rows": 5
       }
      },
      "text/html": [
       "<div>\n",
       "<style scoped>\n",
       "    .dataframe tbody tr th:only-of-type {\n",
       "        vertical-align: middle;\n",
       "    }\n",
       "\n",
       "    .dataframe tbody tr th {\n",
       "        vertical-align: top;\n",
       "    }\n",
       "\n",
       "    .dataframe thead th {\n",
       "        text-align: right;\n",
       "    }\n",
       "</style>\n",
       "<table border=\"1\" class=\"dataframe\">\n",
       "  <thead>\n",
       "    <tr style=\"text-align: right;\">\n",
       "      <th></th>\n",
       "      <th>default_flag</th>\n",
       "      <th>disposition</th>\n",
       "      <th>disp_refname</th>\n",
       "      <th>sy_snum</th>\n",
       "      <th>sy_pnum</th>\n",
       "      <th>sy_mnum</th>\n",
       "      <th>cb_flag</th>\n",
       "      <th>discoverymethod</th>\n",
       "      <th>disc_year</th>\n",
       "      <th>disc_refname</th>\n",
       "      <th>...</th>\n",
       "      <th>sy_gaiamag</th>\n",
       "      <th>sy_icmag</th>\n",
       "      <th>sy_tmag</th>\n",
       "      <th>sy_kepmag</th>\n",
       "      <th>rowupdate</th>\n",
       "      <th>pl_pubdate</th>\n",
       "      <th>releasedate</th>\n",
       "      <th>pl_nnotes</th>\n",
       "      <th>k2_campaigns</th>\n",
       "      <th>k2_campaigns_num</th>\n",
       "    </tr>\n",
       "  </thead>\n",
       "  <tbody>\n",
       "    <tr>\n",
       "      <th>0</th>\n",
       "      <td>0</td>\n",
       "      <td>CONFIRMED</td>\n",
       "      <td>Espinoza et al. 2016</td>\n",
       "      <td>1</td>\n",
       "      <td>1</td>\n",
       "      <td>0</td>\n",
       "      <td>0</td>\n",
       "      <td>Transit</td>\n",
       "      <td>2016</td>\n",
       "      <td>&lt;a refstr=ESPINOZA_ET_AL__2016 href=https://ui...</td>\n",
       "      <td>...</td>\n",
       "      <td>10.8644</td>\n",
       "      <td>NaN</td>\n",
       "      <td>10.4021</td>\n",
       "      <td>11.040</td>\n",
       "      <td>2018-04-25</td>\n",
       "      <td>2018-03</td>\n",
       "      <td>2018-02-15</td>\n",
       "      <td>1</td>\n",
       "      <td>4</td>\n",
       "      <td>1.0</td>\n",
       "    </tr>\n",
       "    <tr>\n",
       "      <th>1</th>\n",
       "      <td>0</td>\n",
       "      <td>CONFIRMED</td>\n",
       "      <td>Espinoza et al. 2016</td>\n",
       "      <td>1</td>\n",
       "      <td>1</td>\n",
       "      <td>0</td>\n",
       "      <td>0</td>\n",
       "      <td>Transit</td>\n",
       "      <td>2016</td>\n",
       "      <td>&lt;a refstr=ESPINOZA_ET_AL__2016 href=https://ui...</td>\n",
       "      <td>...</td>\n",
       "      <td>10.8644</td>\n",
       "      <td>NaN</td>\n",
       "      <td>10.4021</td>\n",
       "      <td>11.040</td>\n",
       "      <td>2018-04-25</td>\n",
       "      <td>2016-10</td>\n",
       "      <td>2016-07-28</td>\n",
       "      <td>1</td>\n",
       "      <td>4</td>\n",
       "      <td>1.0</td>\n",
       "    </tr>\n",
       "    <tr>\n",
       "      <th>2</th>\n",
       "      <td>1</td>\n",
       "      <td>CONFIRMED</td>\n",
       "      <td>Espinoza et al. 2016</td>\n",
       "      <td>1</td>\n",
       "      <td>1</td>\n",
       "      <td>0</td>\n",
       "      <td>0</td>\n",
       "      <td>Transit</td>\n",
       "      <td>2016</td>\n",
       "      <td>&lt;a refstr=ESPINOZA_ET_AL__2016 href=https://ui...</td>\n",
       "      <td>...</td>\n",
       "      <td>10.8644</td>\n",
       "      <td>NaN</td>\n",
       "      <td>10.4021</td>\n",
       "      <td>11.040</td>\n",
       "      <td>2018-04-25</td>\n",
       "      <td>2017-03</td>\n",
       "      <td>2018-04-26</td>\n",
       "      <td>1</td>\n",
       "      <td>4</td>\n",
       "      <td>1.0</td>\n",
       "    </tr>\n",
       "    <tr>\n",
       "      <th>3</th>\n",
       "      <td>0</td>\n",
       "      <td>CANDIDATE</td>\n",
       "      <td>Livingston et al. 2018</td>\n",
       "      <td>1</td>\n",
       "      <td>0</td>\n",
       "      <td>0</td>\n",
       "      <td>0</td>\n",
       "      <td>Transit</td>\n",
       "      <td>2018</td>\n",
       "      <td>&lt;a refstr=MAYO_ET_AL__2018 href=https://ui.ads...</td>\n",
       "      <td>...</td>\n",
       "      <td>11.3995</td>\n",
       "      <td>NaN</td>\n",
       "      <td>10.7606</td>\n",
       "      <td>11.363</td>\n",
       "      <td>2018-02-15</td>\n",
       "      <td>2018-03</td>\n",
       "      <td>2018-02-15</td>\n",
       "      <td>0</td>\n",
       "      <td>10</td>\n",
       "      <td>1.0</td>\n",
       "    </tr>\n",
       "    <tr>\n",
       "      <th>4</th>\n",
       "      <td>1</td>\n",
       "      <td>CANDIDATE</td>\n",
       "      <td>Livingston et al. 2018</td>\n",
       "      <td>1</td>\n",
       "      <td>0</td>\n",
       "      <td>0</td>\n",
       "      <td>0</td>\n",
       "      <td>Transit</td>\n",
       "      <td>2018</td>\n",
       "      <td>&lt;a refstr=MAYO_ET_AL__2018 href=https://ui.ads...</td>\n",
       "      <td>...</td>\n",
       "      <td>11.3995</td>\n",
       "      <td>NaN</td>\n",
       "      <td>10.7606</td>\n",
       "      <td>11.363</td>\n",
       "      <td>2018-08-02</td>\n",
       "      <td>2018-08</td>\n",
       "      <td>2018-08-02</td>\n",
       "      <td>0</td>\n",
       "      <td>10</td>\n",
       "      <td>1.0</td>\n",
       "    </tr>\n",
       "  </tbody>\n",
       "</table>\n",
       "<p>5 rows × 112 columns</p>\n",
       "</div>"
      ],
      "text/plain": [
       "   default_flag disposition            disp_refname  sy_snum  sy_pnum  \\\n",
       "0             0   CONFIRMED    Espinoza et al. 2016        1        1   \n",
       "1             0   CONFIRMED    Espinoza et al. 2016        1        1   \n",
       "2             1   CONFIRMED    Espinoza et al. 2016        1        1   \n",
       "3             0   CANDIDATE  Livingston et al. 2018        1        0   \n",
       "4             1   CANDIDATE  Livingston et al. 2018        1        0   \n",
       "\n",
       "   sy_mnum  cb_flag discoverymethod  disc_year  \\\n",
       "0        0        0         Transit       2016   \n",
       "1        0        0         Transit       2016   \n",
       "2        0        0         Transit       2016   \n",
       "3        0        0         Transit       2018   \n",
       "4        0        0         Transit       2018   \n",
       "\n",
       "                                        disc_refname  ... sy_gaiamag sy_icmag  \\\n",
       "0  <a refstr=ESPINOZA_ET_AL__2016 href=https://ui...  ...    10.8644      NaN   \n",
       "1  <a refstr=ESPINOZA_ET_AL__2016 href=https://ui...  ...    10.8644      NaN   \n",
       "2  <a refstr=ESPINOZA_ET_AL__2016 href=https://ui...  ...    10.8644      NaN   \n",
       "3  <a refstr=MAYO_ET_AL__2018 href=https://ui.ads...  ...    11.3995      NaN   \n",
       "4  <a refstr=MAYO_ET_AL__2018 href=https://ui.ads...  ...    11.3995      NaN   \n",
       "\n",
       "   sy_tmag sy_kepmag   rowupdate  pl_pubdate  releasedate  pl_nnotes  \\\n",
       "0  10.4021    11.040  2018-04-25     2018-03   2018-02-15          1   \n",
       "1  10.4021    11.040  2018-04-25     2016-10   2016-07-28          1   \n",
       "2  10.4021    11.040  2018-04-25     2017-03   2018-04-26          1   \n",
       "3  10.7606    11.363  2018-02-15     2018-03   2018-02-15          0   \n",
       "4  10.7606    11.363  2018-08-02     2018-08   2018-08-02          0   \n",
       "\n",
       "   k2_campaigns  k2_campaigns_num  \n",
       "0             4               1.0  \n",
       "1             4               1.0  \n",
       "2             4               1.0  \n",
       "3            10               1.0  \n",
       "4            10               1.0  \n",
       "\n",
       "[5 rows x 112 columns]"
      ]
     },
     "execution_count": 335,
     "metadata": {},
     "output_type": "execute_result"
    }
   ],
   "source": [
    "data = pd.read_csv(\"k2pandc_2025.09.22_11.36.03.csv\")\n",
    "data.head()"
   ]
  },
  {
   "cell_type": "code",
   "execution_count": 336,
   "id": "a5687558",
   "metadata": {},
   "outputs": [
    {
     "data": {
      "text/plain": [
       "(3992, 112)"
      ]
     },
     "execution_count": 336,
     "metadata": {},
     "output_type": "execute_result"
    }
   ],
   "source": [
    "data.shape # i have 112 features way to much "
   ]
  },
  {
   "cell_type": "code",
   "execution_count": 337,
   "id": "a6e5fe4c",
   "metadata": {},
   "outputs": [
    {
     "data": {
      "text/plain": [
       "pandas.core.series.Series"
      ]
     },
     "execution_count": 337,
     "metadata": {},
     "output_type": "execute_result"
    }
   ],
   "source": [
    "values_null = data.isna().mean() * 100 \n",
    "type(values_null)\n"
   ]
  },
  {
   "cell_type": "code",
   "execution_count": 338,
   "id": "2e3c0323",
   "metadata": {},
   "outputs": [],
   "source": [
    "def null_elimination(\n",
    "    null_values: pd.Series, threshold: int, names: list[str]\n",
    ") -> list[str]:\n",
    "    \"\"\"_summary_\n",
    "\n",
    "    Args:\n",
    "        null_values (pd.Series): null pandas series (data.isna().mean())\n",
    "        threshold (int): our allowed null percent in each feature\n",
    "\n",
    "    Returns:\n",
    "        list[str]: features to eliminant\n",
    "    \"\"\"\n",
    "    selected_features = []\n",
    "    for i in range(len(null_values)):\n",
    "        if null_values[i] > threshold:\n",
    "            selected_features.append(names[i])\n",
    "\n",
    "    return selected_features"
   ]
  },
  {
   "cell_type": "code",
   "execution_count": 339,
   "id": "39b9267f",
   "metadata": {},
   "outputs": [
    {
     "name": "stderr",
     "output_type": "stream",
     "text": [
      "C:\\Users\\Samy Adel\\AppData\\Local\\Temp\\ipykernel_14096\\2301728522.py:15: FutureWarning: Series.__getitem__ treating keys as positions is deprecated. In a future version, integer keys will always be treated as labels (consistent with DataFrame behavior). To access a value by position, use `ser.iloc[pos]`\n",
      "  if null_values[i] > threshold:\n"
     ]
    },
    {
     "data": {
      "text/plain": [
       "66"
      ]
     },
     "execution_count": 339,
     "metadata": {},
     "output_type": "execute_result"
    }
   ],
   "source": [
    "null_eliminated_values = null_elimination(null_values=values_null,threshold=0.4,names=data.columns)\n",
    "len(null_eliminated_values)"
   ]
  },
  {
   "cell_type": "markdown",
   "id": "3f035ce8",
   "metadata": {},
   "source": [
    "we have a lot of columns that has more that 40% null values which is not ideal for any machine learning model  "
   ]
  },
  {
   "cell_type": "code",
   "execution_count": 340,
   "id": "f418bb3a",
   "metadata": {},
   "outputs": [],
   "source": [
    "def drop_unwanted_features(features: list[str], data: pd.DataFrame) -> pd.DataFrame:\n",
    "    \"\"\"_summary_\n",
    "\n",
    "    Args:\n",
    "        features (list[str]): features i don't want\n",
    "        data (pd.DataFrame): the original data\n",
    "\n",
    "    Returns:\n",
    "        pd.DataFrame: copy of the original data without the non-wanted features\n",
    "    \"\"\"\n",
    "    return_data = data.copy()\n",
    "    return_data.drop(labels=features, axis=1,inplace=True)\n",
    "    return return_data"
   ]
  },
  {
   "cell_type": "code",
   "execution_count": 341,
   "id": "0e088fde",
   "metadata": {},
   "outputs": [
    {
     "data": {
      "application/vnd.microsoft.datawrangler.viewer.v0+json": {
       "columns": [
        {
         "name": "index",
         "rawType": "int64",
         "type": "integer"
        },
        {
         "name": "default_flag",
         "rawType": "int64",
         "type": "integer"
        },
        {
         "name": "disposition",
         "rawType": "object",
         "type": "string"
        },
        {
         "name": "disp_refname",
         "rawType": "object",
         "type": "string"
        },
        {
         "name": "sy_snum",
         "rawType": "int64",
         "type": "integer"
        },
        {
         "name": "sy_pnum",
         "rawType": "int64",
         "type": "integer"
        },
        {
         "name": "sy_mnum",
         "rawType": "int64",
         "type": "integer"
        },
        {
         "name": "cb_flag",
         "rawType": "int64",
         "type": "integer"
        },
        {
         "name": "discoverymethod",
         "rawType": "object",
         "type": "string"
        },
        {
         "name": "disc_year",
         "rawType": "int64",
         "type": "integer"
        },
        {
         "name": "disc_refname",
         "rawType": "object",
         "type": "string"
        },
        {
         "name": "disc_pubdate",
         "rawType": "object",
         "type": "string"
        },
        {
         "name": "disc_locale",
         "rawType": "object",
         "type": "string"
        },
        {
         "name": "disc_facility",
         "rawType": "object",
         "type": "string"
        },
        {
         "name": "disc_telescope",
         "rawType": "object",
         "type": "string"
        },
        {
         "name": "disc_instrument",
         "rawType": "object",
         "type": "string"
        },
        {
         "name": "rv_flag",
         "rawType": "int64",
         "type": "integer"
        },
        {
         "name": "pul_flag",
         "rawType": "int64",
         "type": "integer"
        },
        {
         "name": "ptv_flag",
         "rawType": "int64",
         "type": "integer"
        },
        {
         "name": "tran_flag",
         "rawType": "int64",
         "type": "integer"
        },
        {
         "name": "ast_flag",
         "rawType": "int64",
         "type": "integer"
        },
        {
         "name": "obm_flag",
         "rawType": "int64",
         "type": "integer"
        },
        {
         "name": "micro_flag",
         "rawType": "int64",
         "type": "integer"
        },
        {
         "name": "etv_flag",
         "rawType": "int64",
         "type": "integer"
        },
        {
         "name": "ima_flag",
         "rawType": "int64",
         "type": "integer"
        },
        {
         "name": "dkin_flag",
         "rawType": "int64",
         "type": "integer"
        },
        {
         "name": "soltype",
         "rawType": "object",
         "type": "string"
        },
        {
         "name": "pl_controv_flag",
         "rawType": "int64",
         "type": "integer"
        },
        {
         "name": "pl_refname",
         "rawType": "object",
         "type": "string"
        },
        {
         "name": "ttv_flag",
         "rawType": "int64",
         "type": "integer"
        },
        {
         "name": "sy_refname",
         "rawType": "object",
         "type": "string"
        },
        {
         "name": "rastr",
         "rawType": "object",
         "type": "string"
        },
        {
         "name": "ra",
         "rawType": "float64",
         "type": "float"
        },
        {
         "name": "decstr",
         "rawType": "object",
         "type": "string"
        },
        {
         "name": "dec",
         "rawType": "float64",
         "type": "float"
        },
        {
         "name": "glat",
         "rawType": "float64",
         "type": "float"
        },
        {
         "name": "glon",
         "rawType": "float64",
         "type": "float"
        },
        {
         "name": "elat",
         "rawType": "float64",
         "type": "float"
        },
        {
         "name": "elon",
         "rawType": "float64",
         "type": "float"
        },
        {
         "name": "sy_tmag",
         "rawType": "float64",
         "type": "float"
        },
        {
         "name": "sy_kepmag",
         "rawType": "float64",
         "type": "float"
        },
        {
         "name": "rowupdate",
         "rawType": "object",
         "type": "string"
        },
        {
         "name": "pl_pubdate",
         "rawType": "object",
         "type": "string"
        },
        {
         "name": "releasedate",
         "rawType": "object",
         "type": "string"
        },
        {
         "name": "pl_nnotes",
         "rawType": "int64",
         "type": "integer"
        },
        {
         "name": "k2_campaigns",
         "rawType": "object",
         "type": "string"
        },
        {
         "name": "k2_campaigns_num",
         "rawType": "float64",
         "type": "float"
        }
       ],
       "ref": "f55d27a7-2819-4aef-a583-ea8dc6328dbc",
       "rows": [
        [
         "0",
         "0",
         "CONFIRMED",
         "Espinoza et al. 2016",
         "1",
         "1",
         "0",
         "0",
         "Transit",
         "2016",
         "<a refstr=ESPINOZA_ET_AL__2016 href=https://ui.adsabs.harvard.edu/abs/2016ApJ...830...43E/abstract target=ref>Espinoza et al. 2016</a>",
         "2016-10",
         "Space",
         "K2",
         "0.95 m Kepler Telescope",
         "Kepler CCD Array",
         "1",
         "0",
         "0",
         "1",
         "0",
         "0",
         "0",
         "0",
         "0",
         "0",
         "Published Confirmed",
         "0",
         "<a refstr=MAYO_ET_AL__2018 href=https://ui.adsabs.harvard.edu/abs/2018AJ....155..136M/abstract target=ref>Mayo et al. 2018</a>",
         "0",
         "<a refstr=STASSUN_ET_AL__2019 href=https://ui.adsabs.harvard.edu/abs/2019AJ....158..138S/abstract target=ref>TICv8</a>",
         "03h34m36.27s",
         "53.6511231",
         "+20d35m56.47s",
         "20.5990205",
         "-28.05348",
         "166.7966",
         "1.31208",
         "56.28872",
         "10.4021",
         "11.04",
         "2018-04-25",
         "2018-03",
         "2018-02-15",
         "1",
         "4",
         "1.0"
        ],
        [
         "1",
         "0",
         "CONFIRMED",
         "Espinoza et al. 2016",
         "1",
         "1",
         "0",
         "0",
         "Transit",
         "2016",
         "<a refstr=ESPINOZA_ET_AL__2016 href=https://ui.adsabs.harvard.edu/abs/2016ApJ...830...43E/abstract target=ref>Espinoza et al. 2016</a>",
         "2016-10",
         "Space",
         "K2",
         "0.95 m Kepler Telescope",
         "Kepler CCD Array",
         "1",
         "0",
         "0",
         "1",
         "0",
         "0",
         "0",
         "0",
         "0",
         "0",
         "Published Confirmed",
         "0",
         "<a refstr=ESPINOZA_ET_AL__2016 href=https://ui.adsabs.harvard.edu/abs/2016ApJ...830...43E/abstract target=ref>Espinoza et al. 2016</a>",
         "0",
         "<a refstr=STASSUN_ET_AL__2019 href=https://ui.adsabs.harvard.edu/abs/2019AJ....158..138S/abstract target=ref>TICv8</a>",
         "03h34m36.27s",
         "53.6511231",
         "+20d35m56.47s",
         "20.5990205",
         "-28.05348",
         "166.7966",
         "1.31208",
         "56.28872",
         "10.4021",
         "11.04",
         "2018-04-25",
         "2016-10",
         "2016-07-28",
         "1",
         "4",
         "1.0"
        ],
        [
         "2",
         "1",
         "CONFIRMED",
         "Espinoza et al. 2016",
         "1",
         "1",
         "0",
         "0",
         "Transit",
         "2016",
         "<a refstr=ESPINOZA_ET_AL__2016 href=https://ui.adsabs.harvard.edu/abs/2016ApJ...830...43E/abstract target=ref>Espinoza et al. 2016</a>",
         "2016-10",
         "Space",
         "K2",
         "0.95 m Kepler Telescope",
         "Kepler CCD Array",
         "1",
         "0",
         "0",
         "1",
         "0",
         "0",
         "0",
         "0",
         "0",
         "0",
         "Published Confirmed",
         "0",
         "<a refstr=STASSUN_ET_AL__2017 href=https://ui.adsabs.harvard.edu/abs/2017AJ....153..136S/abstract target=ref>Stassun et al. 2017</a>",
         "0",
         "<a refstr=STASSUN_ET_AL__2019 href=https://ui.adsabs.harvard.edu/abs/2019AJ....158..138S/abstract target=ref>TICv8</a>",
         "03h34m36.27s",
         "53.6511231",
         "+20d35m56.47s",
         "20.5990205",
         "-28.05348",
         "166.7966",
         "1.31208",
         "56.28872",
         "10.4021",
         "11.04",
         "2018-04-25",
         "2017-03",
         "2018-04-26",
         "1",
         "4",
         "1.0"
        ],
        [
         "3",
         "0",
         "CANDIDATE",
         "Livingston et al. 2018",
         "1",
         "0",
         "0",
         "0",
         "Transit",
         "2018",
         "<a refstr=MAYO_ET_AL__2018 href=https://ui.adsabs.harvard.edu/abs/2018AJ....155..136M/abstract target=ref>Mayo et al. 2018</a>",
         "2018-03",
         "Space",
         "K2",
         "0.95 m Kepler Telescope",
         "Kepler CCD Array",
         "0",
         "0",
         "0",
         "1",
         "0",
         "0",
         "0",
         "0",
         "0",
         "0",
         "Published Candidate",
         "0",
         "<a refstr=MAYO_ET_AL__2018 href=https://ui.adsabs.harvard.edu/abs/2018AJ....155..136M/abstract target=ref>Mayo et al. 2018</a>",
         "0",
         "<a refstr=STASSUN_ET_AL__2019 href=https://ui.adsabs.harvard.edu/abs/2019AJ....158..138S/abstract target=ref>TICv8</a>",
         "12h15m23.10s",
         "183.8462454",
         "-06d16m05.98s",
         "-6.2683289",
         "55.48289",
         "286.98079",
         "-4.22377",
         "186.01709",
         "10.7606",
         "11.363",
         "2018-02-15",
         "2018-03",
         "2018-02-15",
         "0",
         "10",
         "1.0"
        ],
        [
         "4",
         "1",
         "CANDIDATE",
         "Livingston et al. 2018",
         "1",
         "0",
         "0",
         "0",
         "Transit",
         "2018",
         "<a refstr=MAYO_ET_AL__2018 href=https://ui.adsabs.harvard.edu/abs/2018AJ....155..136M/abstract target=ref>Mayo et al. 2018</a>",
         "2018-03",
         "Space",
         "K2",
         "0.95 m Kepler Telescope",
         "Kepler CCD Array",
         "0",
         "0",
         "0",
         "1",
         "0",
         "0",
         "0",
         "0",
         "0",
         "0",
         "Published Candidate",
         "0",
         "<a refstr=LIVINGSTON_ET_AL__2018 href=https://ui.adsabs.harvard.edu/abs/2018AJ....156...78L/abstract target=ref>Livingston et al. 2018</a>",
         "0",
         "<a refstr=STASSUN_ET_AL__2019 href=https://ui.adsabs.harvard.edu/abs/2019AJ....158..138S/abstract target=ref>TICv8</a>",
         "12h15m23.10s",
         "183.8462454",
         "-06d16m05.98s",
         "-6.2683289",
         "55.48289",
         "286.98079",
         "-4.22377",
         "186.01709",
         "10.7606",
         "11.363",
         "2018-08-02",
         "2018-08",
         "2018-08-02",
         "0",
         "10",
         "1.0"
        ]
       ],
       "shape": {
        "columns": 46,
        "rows": 5
       }
      },
      "text/html": [
       "<div>\n",
       "<style scoped>\n",
       "    .dataframe tbody tr th:only-of-type {\n",
       "        vertical-align: middle;\n",
       "    }\n",
       "\n",
       "    .dataframe tbody tr th {\n",
       "        vertical-align: top;\n",
       "    }\n",
       "\n",
       "    .dataframe thead th {\n",
       "        text-align: right;\n",
       "    }\n",
       "</style>\n",
       "<table border=\"1\" class=\"dataframe\">\n",
       "  <thead>\n",
       "    <tr style=\"text-align: right;\">\n",
       "      <th></th>\n",
       "      <th>default_flag</th>\n",
       "      <th>disposition</th>\n",
       "      <th>disp_refname</th>\n",
       "      <th>sy_snum</th>\n",
       "      <th>sy_pnum</th>\n",
       "      <th>sy_mnum</th>\n",
       "      <th>cb_flag</th>\n",
       "      <th>discoverymethod</th>\n",
       "      <th>disc_year</th>\n",
       "      <th>disc_refname</th>\n",
       "      <th>...</th>\n",
       "      <th>elat</th>\n",
       "      <th>elon</th>\n",
       "      <th>sy_tmag</th>\n",
       "      <th>sy_kepmag</th>\n",
       "      <th>rowupdate</th>\n",
       "      <th>pl_pubdate</th>\n",
       "      <th>releasedate</th>\n",
       "      <th>pl_nnotes</th>\n",
       "      <th>k2_campaigns</th>\n",
       "      <th>k2_campaigns_num</th>\n",
       "    </tr>\n",
       "  </thead>\n",
       "  <tbody>\n",
       "    <tr>\n",
       "      <th>0</th>\n",
       "      <td>0</td>\n",
       "      <td>CONFIRMED</td>\n",
       "      <td>Espinoza et al. 2016</td>\n",
       "      <td>1</td>\n",
       "      <td>1</td>\n",
       "      <td>0</td>\n",
       "      <td>0</td>\n",
       "      <td>Transit</td>\n",
       "      <td>2016</td>\n",
       "      <td>&lt;a refstr=ESPINOZA_ET_AL__2016 href=https://ui...</td>\n",
       "      <td>...</td>\n",
       "      <td>1.31208</td>\n",
       "      <td>56.28872</td>\n",
       "      <td>10.4021</td>\n",
       "      <td>11.040</td>\n",
       "      <td>2018-04-25</td>\n",
       "      <td>2018-03</td>\n",
       "      <td>2018-02-15</td>\n",
       "      <td>1</td>\n",
       "      <td>4</td>\n",
       "      <td>1.0</td>\n",
       "    </tr>\n",
       "    <tr>\n",
       "      <th>1</th>\n",
       "      <td>0</td>\n",
       "      <td>CONFIRMED</td>\n",
       "      <td>Espinoza et al. 2016</td>\n",
       "      <td>1</td>\n",
       "      <td>1</td>\n",
       "      <td>0</td>\n",
       "      <td>0</td>\n",
       "      <td>Transit</td>\n",
       "      <td>2016</td>\n",
       "      <td>&lt;a refstr=ESPINOZA_ET_AL__2016 href=https://ui...</td>\n",
       "      <td>...</td>\n",
       "      <td>1.31208</td>\n",
       "      <td>56.28872</td>\n",
       "      <td>10.4021</td>\n",
       "      <td>11.040</td>\n",
       "      <td>2018-04-25</td>\n",
       "      <td>2016-10</td>\n",
       "      <td>2016-07-28</td>\n",
       "      <td>1</td>\n",
       "      <td>4</td>\n",
       "      <td>1.0</td>\n",
       "    </tr>\n",
       "    <tr>\n",
       "      <th>2</th>\n",
       "      <td>1</td>\n",
       "      <td>CONFIRMED</td>\n",
       "      <td>Espinoza et al. 2016</td>\n",
       "      <td>1</td>\n",
       "      <td>1</td>\n",
       "      <td>0</td>\n",
       "      <td>0</td>\n",
       "      <td>Transit</td>\n",
       "      <td>2016</td>\n",
       "      <td>&lt;a refstr=ESPINOZA_ET_AL__2016 href=https://ui...</td>\n",
       "      <td>...</td>\n",
       "      <td>1.31208</td>\n",
       "      <td>56.28872</td>\n",
       "      <td>10.4021</td>\n",
       "      <td>11.040</td>\n",
       "      <td>2018-04-25</td>\n",
       "      <td>2017-03</td>\n",
       "      <td>2018-04-26</td>\n",
       "      <td>1</td>\n",
       "      <td>4</td>\n",
       "      <td>1.0</td>\n",
       "    </tr>\n",
       "    <tr>\n",
       "      <th>3</th>\n",
       "      <td>0</td>\n",
       "      <td>CANDIDATE</td>\n",
       "      <td>Livingston et al. 2018</td>\n",
       "      <td>1</td>\n",
       "      <td>0</td>\n",
       "      <td>0</td>\n",
       "      <td>0</td>\n",
       "      <td>Transit</td>\n",
       "      <td>2018</td>\n",
       "      <td>&lt;a refstr=MAYO_ET_AL__2018 href=https://ui.ads...</td>\n",
       "      <td>...</td>\n",
       "      <td>-4.22377</td>\n",
       "      <td>186.01709</td>\n",
       "      <td>10.7606</td>\n",
       "      <td>11.363</td>\n",
       "      <td>2018-02-15</td>\n",
       "      <td>2018-03</td>\n",
       "      <td>2018-02-15</td>\n",
       "      <td>0</td>\n",
       "      <td>10</td>\n",
       "      <td>1.0</td>\n",
       "    </tr>\n",
       "    <tr>\n",
       "      <th>4</th>\n",
       "      <td>1</td>\n",
       "      <td>CANDIDATE</td>\n",
       "      <td>Livingston et al. 2018</td>\n",
       "      <td>1</td>\n",
       "      <td>0</td>\n",
       "      <td>0</td>\n",
       "      <td>0</td>\n",
       "      <td>Transit</td>\n",
       "      <td>2018</td>\n",
       "      <td>&lt;a refstr=MAYO_ET_AL__2018 href=https://ui.ads...</td>\n",
       "      <td>...</td>\n",
       "      <td>-4.22377</td>\n",
       "      <td>186.01709</td>\n",
       "      <td>10.7606</td>\n",
       "      <td>11.363</td>\n",
       "      <td>2018-08-02</td>\n",
       "      <td>2018-08</td>\n",
       "      <td>2018-08-02</td>\n",
       "      <td>0</td>\n",
       "      <td>10</td>\n",
       "      <td>1.0</td>\n",
       "    </tr>\n",
       "  </tbody>\n",
       "</table>\n",
       "<p>5 rows × 46 columns</p>\n",
       "</div>"
      ],
      "text/plain": [
       "   default_flag disposition            disp_refname  sy_snum  sy_pnum  \\\n",
       "0             0   CONFIRMED    Espinoza et al. 2016        1        1   \n",
       "1             0   CONFIRMED    Espinoza et al. 2016        1        1   \n",
       "2             1   CONFIRMED    Espinoza et al. 2016        1        1   \n",
       "3             0   CANDIDATE  Livingston et al. 2018        1        0   \n",
       "4             1   CANDIDATE  Livingston et al. 2018        1        0   \n",
       "\n",
       "   sy_mnum  cb_flag discoverymethod  disc_year  \\\n",
       "0        0        0         Transit       2016   \n",
       "1        0        0         Transit       2016   \n",
       "2        0        0         Transit       2016   \n",
       "3        0        0         Transit       2018   \n",
       "4        0        0         Transit       2018   \n",
       "\n",
       "                                        disc_refname  ...     elat       elon  \\\n",
       "0  <a refstr=ESPINOZA_ET_AL__2016 href=https://ui...  ...  1.31208   56.28872   \n",
       "1  <a refstr=ESPINOZA_ET_AL__2016 href=https://ui...  ...  1.31208   56.28872   \n",
       "2  <a refstr=ESPINOZA_ET_AL__2016 href=https://ui...  ...  1.31208   56.28872   \n",
       "3  <a refstr=MAYO_ET_AL__2018 href=https://ui.ads...  ... -4.22377  186.01709   \n",
       "4  <a refstr=MAYO_ET_AL__2018 href=https://ui.ads...  ... -4.22377  186.01709   \n",
       "\n",
       "   sy_tmag sy_kepmag   rowupdate  pl_pubdate  releasedate  pl_nnotes  \\\n",
       "0  10.4021    11.040  2018-04-25     2018-03   2018-02-15          1   \n",
       "1  10.4021    11.040  2018-04-25     2016-10   2016-07-28          1   \n",
       "2  10.4021    11.040  2018-04-25     2017-03   2018-04-26          1   \n",
       "3  10.7606    11.363  2018-02-15     2018-03   2018-02-15          0   \n",
       "4  10.7606    11.363  2018-08-02     2018-08   2018-08-02          0   \n",
       "\n",
       "   k2_campaigns  k2_campaigns_num  \n",
       "0             4               1.0  \n",
       "1             4               1.0  \n",
       "2             4               1.0  \n",
       "3            10               1.0  \n",
       "4            10               1.0  \n",
       "\n",
       "[5 rows x 46 columns]"
      ]
     },
     "execution_count": 341,
     "metadata": {},
     "output_type": "execute_result"
    }
   ],
   "source": [
    "df = drop_unwanted_features(features=null_eliminated_values,data=data)\n",
    "df.head()"
   ]
  },
  {
   "cell_type": "code",
   "execution_count": 342,
   "id": "3f24a9c5",
   "metadata": {},
   "outputs": [
    {
     "data": {
      "text/plain": [
       "(3992, 46)"
      ]
     },
     "execution_count": 342,
     "metadata": {},
     "output_type": "execute_result"
    }
   ],
   "source": [
    "df.shape"
   ]
  },
  {
   "cell_type": "markdown",
   "id": "eaf5480d",
   "metadata": {},
   "source": [
    "from hear we will do normal machine learning"
   ]
  },
  {
   "cell_type": "code",
   "execution_count": 343,
   "id": "1e028b07",
   "metadata": {},
   "outputs": [
    {
     "data": {
      "text/plain": [
       "((3992, 45), (3992,))"
      ]
     },
     "execution_count": 343,
     "metadata": {},
     "output_type": "execute_result"
    }
   ],
   "source": [
    "y = df[\"disposition\"]\n",
    "X = df.drop(labels=[\"disposition\"], axis=1)\n",
    "X.shape, y.shape"
   ]
  },
  {
   "cell_type": "code",
   "execution_count": 344,
   "id": "812ed880",
   "metadata": {},
   "outputs": [
    {
     "data": {
      "text/plain": [
       "((3193, 45), (799, 45), (3193,), (799,))"
      ]
     },
     "execution_count": 344,
     "metadata": {},
     "output_type": "execute_result"
    }
   ],
   "source": [
    "# train test split\n",
    "X_train, X_test, y_train, y_test = train_test_split(\n",
    "    X, y, test_size=0.2, random_state=42, stratify=y\n",
    ")\n",
    "X_train.shape, X_test.shape, y_train.shape, y_test.shape"
   ]
  },
  {
   "cell_type": "code",
   "execution_count": 345,
   "id": "da7b451e",
   "metadata": {},
   "outputs": [
    {
     "data": {
      "text/plain": [
       "(17, 28)"
      ]
     },
     "execution_count": 345,
     "metadata": {},
     "output_type": "execute_result"
    }
   ],
   "source": [
    "# select categorical and numerical columns\n",
    "categorical_cols = X.select_dtypes(include=[\"object\"]).columns\n",
    "numerical_cols = X.select_dtypes(include=[\"int64\", \"float64\"]).columns\n",
    "len(categorical_cols), len(numerical_cols)"
   ]
  },
  {
   "cell_type": "code",
   "execution_count": 346,
   "id": "a3f1a3be",
   "metadata": {},
   "outputs": [
    {
     "data": {
      "application/vnd.microsoft.datawrangler.viewer.v0+json": {
       "columns": [
        {
         "name": "disposition",
         "rawType": "object",
         "type": "string"
        },
        {
         "name": "count",
         "rawType": "int64",
         "type": "integer"
        }
       ],
       "ref": "31e1ac8b-9cf4-4f9b-93ab-b5da8b2377f3",
       "rows": [
        [
         "CONFIRMED",
         "1846"
        ],
        [
         "CANDIDATE",
         "1095"
        ],
        [
         "FALSE POSITIVE",
         "234"
        ],
        [
         "REFUTED",
         "18"
        ]
       ],
       "shape": {
        "columns": 1,
        "rows": 4
       }
      },
      "text/plain": [
       "disposition\n",
       "CONFIRMED         1846\n",
       "CANDIDATE         1095\n",
       "FALSE POSITIVE     234\n",
       "REFUTED             18\n",
       "Name: count, dtype: int64"
      ]
     },
     "execution_count": 346,
     "metadata": {},
     "output_type": "execute_result"
    }
   ],
   "source": [
    "y_train.value_counts()"
   ]
  },
  {
   "cell_type": "markdown",
   "id": "50545d2e",
   "metadata": {},
   "source": [
    "basically turn form multi-class classification to a binary classification    "
   ]
  },
  {
   "cell_type": "code",
   "execution_count": null,
   "id": "088a89ac",
   "metadata": {},
   "outputs": [],
   "source": [
    "def replace_values_in_target(\n",
    "    replace_names: list[str], target: pd.Series, new_value: str\n",
    ") -> pd.Series:\n",
    "    \"\"\"_summary_\n",
    "\n",
    "    Args:\n",
    "        replace_names (list[str]): values to replace\n",
    "        target (pd.Series): the target series\n",
    "        new_value (str): the new value\n",
    "\n",
    "    Returns:\n",
    "        pd.Series: the modified target series\n",
    "    \"\"\"\n",
    "    target_copy = target.copy()\n",
    "    for name in replace_names:\n",
    "        target_copy.replace(to_replace=name, value=new_value, inplace=True)\n",
    "    return target_copy\n"
   ]
  },
  {
   "cell_type": "code",
   "execution_count": 348,
   "id": "7920e5d1",
   "metadata": {},
   "outputs": [
    {
     "data": {
      "application/vnd.microsoft.datawrangler.viewer.v0+json": {
       "columns": [
        {
         "name": "disposition",
         "rawType": "object",
         "type": "string"
        },
        {
         "name": "count",
         "rawType": "int64",
         "type": "integer"
        }
       ],
       "ref": "8b7e9e4f-2023-4b42-948b-e391234eda05",
       "rows": [
        [
         "CONFIRMED",
         "1846"
        ],
        [
         "CANDIDATE",
         "1347"
        ]
       ],
       "shape": {
        "columns": 1,
        "rows": 2
       }
      },
      "text/plain": [
       "disposition\n",
       "CONFIRMED    1846\n",
       "CANDIDATE    1347\n",
       "Name: count, dtype: int64"
      ]
     },
     "execution_count": 348,
     "metadata": {},
     "output_type": "execute_result"
    }
   ],
   "source": [
    "replace_names = [\"FALSE POSITIVE\", \"REFUTED\"]\n",
    "y_train = replace_values_in_target(\n",
    "    replace_names=replace_names, target=y_train, new_value=\"CANDIDATE\"\n",
    ")\n",
    "y_train.value_counts()"
   ]
  },
  {
   "cell_type": "code",
   "execution_count": 349,
   "id": "ada270de",
   "metadata": {},
   "outputs": [
    {
     "data": {
      "text/plain": [
       "Index(['disp_refname', 'discoverymethod', 'disc_refname', 'disc_pubdate',\n",
       "       'disc_locale', 'disc_facility', 'disc_telescope', 'disc_instrument',\n",
       "       'soltype', 'pl_refname', 'sy_refname', 'rastr', 'decstr', 'rowupdate',\n",
       "       'pl_pubdate', 'releasedate', 'k2_campaigns'],\n",
       "      dtype='object')"
      ]
     },
     "execution_count": 349,
     "metadata": {},
     "output_type": "execute_result"
    }
   ],
   "source": [
    "categorical_cols"
   ]
  },
  {
   "cell_type": "markdown",
   "id": "a34ea381",
   "metadata": {},
   "source": [
    "disp_refname , discoverymethod , disc_refname, disc_pubdate, disc_facility, disc_telescope , disc_instrument,soltype,disc_locale ,pl_refname ,\n",
    "sy_refname , "
   ]
  },
  {
   "cell_type": "markdown",
   "id": "a8a6f84e",
   "metadata": {},
   "source": [
    "decstr ,rastr , rowupdate, pl_pubdate, releasedate, "
   ]
  },
  {
   "cell_type": "code",
   "execution_count": 350,
   "id": "0bd2c6a4",
   "metadata": {},
   "outputs": [
    {
     "name": "stdout",
     "output_type": "stream",
     "text": [
      "disp_refname : 133\n",
      "discoverymethod : 3\n",
      "disc_refname : 141\n",
      "disc_pubdate : 74\n",
      "disc_locale : 3\n",
      "disc_facility : 10\n",
      "disc_telescope : 10\n",
      "disc_instrument : 11\n",
      "soltype : 3\n",
      "pl_refname : 240\n",
      "sy_refname : 3\n",
      "rastr : 1354\n",
      "decstr : 1354\n",
      "rowupdate : 170\n",
      "pl_pubdate : 101\n",
      "releasedate : 188\n",
      "k2_campaigns : 32\n"
     ]
    }
   ],
   "source": [
    "for i in categorical_cols:\n",
    "    print(f\"{i} : {X_train[i].nunique()}\")"
   ]
  },
  {
   "cell_type": "code",
   "execution_count": 351,
   "id": "e6ec80ff",
   "metadata": {},
   "outputs": [
    {
     "data": {
      "application/vnd.microsoft.datawrangler.viewer.v0+json": {
       "columns": [
        {
         "name": "discoverymethod",
         "rawType": "object",
         "type": "string"
        },
        {
         "name": "count",
         "rawType": "int64",
         "type": "integer"
        }
       ],
       "ref": "9d46543d-0701-4a45-abd1-7406d5da2f61",
       "rows": [
        [
         "Transit",
         "3173"
        ],
        [
         "Radial Velocity",
         "19"
        ],
        [
         "Microlensing",
         "1"
        ]
       ],
       "shape": {
        "columns": 1,
        "rows": 3
       }
      },
      "text/plain": [
       "discoverymethod\n",
       "Transit            3173\n",
       "Radial Velocity      19\n",
       "Microlensing          1\n",
       "Name: count, dtype: int64"
      ]
     },
     "execution_count": 351,
     "metadata": {},
     "output_type": "execute_result"
    }
   ],
   "source": [
    "X_train[\"discoverymethod\"].value_counts() #this one could be useful"
   ]
  },
  {
   "cell_type": "markdown",
   "id": "2c9a071c",
   "metadata": {},
   "source": [
    "by a simple manual analysis we found that only k2_campaigns could be of value when we do classification  "
   ]
  },
  {
   "cell_type": "code",
   "execution_count": 352,
   "id": "3c7d8e23",
   "metadata": {},
   "outputs": [
    {
     "data": {
      "text/plain": [
       "Index(['default_flag', 'sy_snum', 'sy_pnum', 'sy_mnum', 'cb_flag', 'disc_year',\n",
       "       'rv_flag', 'pul_flag', 'ptv_flag', 'tran_flag', 'ast_flag', 'obm_flag',\n",
       "       'micro_flag', 'etv_flag', 'ima_flag', 'dkin_flag', 'pl_controv_flag',\n",
       "       'ttv_flag', 'ra', 'dec', 'glat', 'glon', 'elat', 'elon', 'sy_tmag',\n",
       "       'sy_kepmag', 'pl_nnotes', 'k2_campaigns_num'],\n",
       "      dtype='object')"
      ]
     },
     "execution_count": 352,
     "metadata": {},
     "output_type": "execute_result"
    }
   ],
   "source": [
    "numerical_cols"
   ]
  },
  {
   "cell_type": "markdown",
   "id": "21ac9b10",
   "metadata": {
    "vscode": {
     "languageId": "latex"
    }
   },
   "source": [
    "default_flag, sy_snum ,sy_mnum, cb_flag, disc_year, pul_flag,ptv_flag, ast_flag , obm_flag , "
   ]
  },
  {
   "cell_type": "code",
   "execution_count": 353,
   "id": "e737288f",
   "metadata": {},
   "outputs": [
    {
     "data": {
      "application/vnd.microsoft.datawrangler.viewer.v0+json": {
       "columns": [
        {
         "name": "index",
         "rawType": "object",
         "type": "string"
        },
        {
         "name": "0",
         "rawType": "float64",
         "type": "float"
        }
       ],
       "ref": "07b499f6-106a-4f1a-81fc-d700c6b97268",
       "rows": [
        [
         "default_flag",
         "0.2478263463230579"
        ],
        [
         "sy_snum",
         "0.06518017561912925"
        ],
        [
         "sy_pnum",
         "1.9107583396323569"
        ],
        [
         "sy_mnum",
         "0.0"
        ],
        [
         "cb_flag",
         "0.0"
        ],
        [
         "disc_year",
         "4.177630892137955"
        ],
        [
         "rv_flag",
         "0.18562515747558686"
        ],
        [
         "pul_flag",
         "0.0"
        ],
        [
         "ptv_flag",
         "0.0"
        ],
        [
         "tran_flag",
         "0.005916961209789273"
        ],
        [
         "ast_flag",
         "0.0"
        ],
        [
         "obm_flag",
         "0.0"
        ],
        [
         "micro_flag",
         "0.00031318509238960227"
        ],
        [
         "etv_flag",
         "0.0"
        ],
        [
         "ima_flag",
         "0.0"
        ],
        [
         "dkin_flag",
         "0.0"
        ],
        [
         "pl_controv_flag",
         "0.0003131850923896022"
        ],
        [
         "ttv_flag",
         "0.04336318403274079"
        ],
        [
         "ra",
         "8804.442837832306"
        ],
        [
         "dec",
         "230.767532982101"
        ],
        [
         "glat",
         "1757.6088225687417"
        ],
        [
         "glon",
         "9850.588378401893"
        ],
        [
         "elat",
         "14.457872782722289"
        ],
        [
         "elon",
         "8721.930061007964"
        ],
        [
         "sy_tmag",
         "2.6288163470303654"
        ],
        [
         "sy_kepmag",
         "2.730832764292705"
        ],
        [
         "pl_nnotes",
         "0.6731317017881379"
        ],
        [
         "k2_campaigns_num",
         "0.33561614785946375"
        ]
       ],
       "shape": {
        "columns": 1,
        "rows": 28
       }
      },
      "text/plain": [
       "default_flag           0.247826\n",
       "sy_snum                0.065180\n",
       "sy_pnum                1.910758\n",
       "sy_mnum                0.000000\n",
       "cb_flag                0.000000\n",
       "disc_year              4.177631\n",
       "rv_flag                0.185625\n",
       "pul_flag               0.000000\n",
       "ptv_flag               0.000000\n",
       "tran_flag              0.005917\n",
       "ast_flag               0.000000\n",
       "obm_flag               0.000000\n",
       "micro_flag             0.000313\n",
       "etv_flag               0.000000\n",
       "ima_flag               0.000000\n",
       "dkin_flag              0.000000\n",
       "pl_controv_flag        0.000313\n",
       "ttv_flag               0.043363\n",
       "ra                  8804.442838\n",
       "dec                  230.767533\n",
       "glat                1757.608823\n",
       "glon                9850.588378\n",
       "elat                  14.457873\n",
       "elon                8721.930061\n",
       "sy_tmag                2.628816\n",
       "sy_kepmag              2.730833\n",
       "pl_nnotes              0.673132\n",
       "k2_campaigns_num       0.335616\n",
       "dtype: float64"
      ]
     },
     "execution_count": 353,
     "metadata": {},
     "output_type": "execute_result"
    }
   ],
   "source": [
    "# get the varaince of numerical features\n",
    "X_train[numerical_cols].var()"
   ]
  },
  {
   "cell_type": "code",
   "execution_count": 354,
   "id": "57a1440b",
   "metadata": {},
   "outputs": [],
   "source": [
    "def drop_based_variance(\n",
    "    threshold: float, data: pd.DataFrame, numerical_cols: list[str]\n",
    ") -> list[str]:\n",
    "    \"\"\"_summary_\n",
    "\n",
    "    Args:\n",
    "        threshold (float): the variance threshold\n",
    "        data (pd.DataFrame): the data\n",
    "        numerical_cols (list[str]): the numerical columns\n",
    "\n",
    "    Returns:\n",
    "        list[str]: features to drop\n",
    "    \"\"\"\n",
    "    to_drop = []\n",
    "    for col in numerical_cols:\n",
    "        if data[col].var() < threshold:\n",
    "            to_drop.append(col)\n",
    "    return to_drop"
   ]
  },
  {
   "cell_type": "code",
   "execution_count": 355,
   "id": "ae484c29",
   "metadata": {},
   "outputs": [
    {
     "data": {
      "text/plain": [
       "(14, 28)"
      ]
     },
     "execution_count": 355,
     "metadata": {},
     "output_type": "execute_result"
    }
   ],
   "source": [
    "unwanted_numerical = drop_based_variance(\n",
    "    threshold=0.1, data=X_train, numerical_cols=numerical_cols\n",
    ")\n",
    "len(unwanted_numerical) , len(numerical_cols), "
   ]
  },
  {
   "cell_type": "code",
   "execution_count": 356,
   "id": "b8b9cb10",
   "metadata": {},
   "outputs": [
    {
     "data": {
      "text/plain": [
       "(3193, 31)"
      ]
     },
     "execution_count": 356,
     "metadata": {},
     "output_type": "execute_result"
    }
   ],
   "source": [
    "X_train = drop_unwanted_features(features=unwanted_numerical, data=X_train)\n",
    "X_train.shape"
   ]
  },
  {
   "cell_type": "code",
   "execution_count": 357,
   "id": "6329880d",
   "metadata": {},
   "outputs": [
    {
     "data": {
      "text/plain": [
       "(3193, 14)"
      ]
     },
     "execution_count": 357,
     "metadata": {},
     "output_type": "execute_result"
    }
   ],
   "source": [
    "# select only k2_campaign from the categorical columns\n",
    "categorical_cols_to_drop = categorical_cols\n",
    "X_train = drop_unwanted_features(features=categorical_cols_to_drop, data=X_train)\n",
    "X_train.shape"
   ]
  },
  {
   "cell_type": "code",
   "execution_count": 358,
   "id": "788275d3",
   "metadata": {},
   "outputs": [
    {
     "data": {
      "application/vnd.microsoft.datawrangler.viewer.v0+json": {
       "columns": [
        {
         "name": "index",
         "rawType": "int64",
         "type": "integer"
        },
        {
         "name": "default_flag",
         "rawType": "int64",
         "type": "integer"
        },
        {
         "name": "sy_pnum",
         "rawType": "int64",
         "type": "integer"
        },
        {
         "name": "disc_year",
         "rawType": "int64",
         "type": "integer"
        },
        {
         "name": "rv_flag",
         "rawType": "int64",
         "type": "integer"
        },
        {
         "name": "ra",
         "rawType": "float64",
         "type": "float"
        },
        {
         "name": "dec",
         "rawType": "float64",
         "type": "float"
        },
        {
         "name": "glat",
         "rawType": "float64",
         "type": "float"
        },
        {
         "name": "glon",
         "rawType": "float64",
         "type": "float"
        },
        {
         "name": "elat",
         "rawType": "float64",
         "type": "float"
        },
        {
         "name": "elon",
         "rawType": "float64",
         "type": "float"
        },
        {
         "name": "sy_tmag",
         "rawType": "float64",
         "type": "float"
        },
        {
         "name": "sy_kepmag",
         "rawType": "float64",
         "type": "float"
        },
        {
         "name": "pl_nnotes",
         "rawType": "int64",
         "type": "integer"
        },
        {
         "name": "k2_campaigns_num",
         "rawType": "float64",
         "type": "float"
        }
       ],
       "ref": "da393ca1-3f21-4401-8f76-5c4280bbc924",
       "rows": [
        [
         "1918",
         "0",
         "3",
         "2024",
         "0",
         "129.6894456",
         "23.6852651",
         "33.43766",
         "201.24412",
         "5.06302",
         "125.94923",
         "6.3687",
         "6.793",
         "0",
         "2.0"
        ],
        [
         "2120",
         "0",
         "1",
         "2017",
         "0",
         "134.4441404",
         "21.4532748",
         "36.91396",
         "205.51379",
         "4.08587",
         "130.79159",
         "13.1214",
         "14.102",
         "0",
         "3.0"
        ],
        [
         "1276",
         "0",
         "0",
         "2016",
         "0",
         "199.5780236",
         "-9.6918696",
         "52.60772",
         "313.87907",
         "-1.32186",
         "201.71886",
         "11.8994",
         "12.471",
         "0",
         "2.0"
        ],
        [
         "3534",
         "1",
         "1",
         "2016",
         "1",
         "333.7518786",
         "-17.2508002",
         "-52.6322",
         "39.9332",
         "-5.97399",
         "329.44981",
         "12.3071",
         "13.087",
         "1",
         "1.0"
        ],
        [
         "3235",
         "1",
         "1",
         "2021",
         "0",
         "128.3219134",
         "13.6613758",
         "28.65234",
         "211.64492",
         "-4.96509",
         "127.21099",
         "12.6649",
         "13.438",
         "0",
         "1.0"
        ]
       ],
       "shape": {
        "columns": 14,
        "rows": 5
       }
      },
      "text/html": [
       "<div>\n",
       "<style scoped>\n",
       "    .dataframe tbody tr th:only-of-type {\n",
       "        vertical-align: middle;\n",
       "    }\n",
       "\n",
       "    .dataframe tbody tr th {\n",
       "        vertical-align: top;\n",
       "    }\n",
       "\n",
       "    .dataframe thead th {\n",
       "        text-align: right;\n",
       "    }\n",
       "</style>\n",
       "<table border=\"1\" class=\"dataframe\">\n",
       "  <thead>\n",
       "    <tr style=\"text-align: right;\">\n",
       "      <th></th>\n",
       "      <th>default_flag</th>\n",
       "      <th>sy_pnum</th>\n",
       "      <th>disc_year</th>\n",
       "      <th>rv_flag</th>\n",
       "      <th>ra</th>\n",
       "      <th>dec</th>\n",
       "      <th>glat</th>\n",
       "      <th>glon</th>\n",
       "      <th>elat</th>\n",
       "      <th>elon</th>\n",
       "      <th>sy_tmag</th>\n",
       "      <th>sy_kepmag</th>\n",
       "      <th>pl_nnotes</th>\n",
       "      <th>k2_campaigns_num</th>\n",
       "    </tr>\n",
       "  </thead>\n",
       "  <tbody>\n",
       "    <tr>\n",
       "      <th>1918</th>\n",
       "      <td>0</td>\n",
       "      <td>3</td>\n",
       "      <td>2024</td>\n",
       "      <td>0</td>\n",
       "      <td>129.689446</td>\n",
       "      <td>23.685265</td>\n",
       "      <td>33.43766</td>\n",
       "      <td>201.24412</td>\n",
       "      <td>5.06302</td>\n",
       "      <td>125.94923</td>\n",
       "      <td>6.3687</td>\n",
       "      <td>6.793</td>\n",
       "      <td>0</td>\n",
       "      <td>2.0</td>\n",
       "    </tr>\n",
       "    <tr>\n",
       "      <th>2120</th>\n",
       "      <td>0</td>\n",
       "      <td>1</td>\n",
       "      <td>2017</td>\n",
       "      <td>0</td>\n",
       "      <td>134.444140</td>\n",
       "      <td>21.453275</td>\n",
       "      <td>36.91396</td>\n",
       "      <td>205.51379</td>\n",
       "      <td>4.08587</td>\n",
       "      <td>130.79159</td>\n",
       "      <td>13.1214</td>\n",
       "      <td>14.102</td>\n",
       "      <td>0</td>\n",
       "      <td>3.0</td>\n",
       "    </tr>\n",
       "    <tr>\n",
       "      <th>1276</th>\n",
       "      <td>0</td>\n",
       "      <td>0</td>\n",
       "      <td>2016</td>\n",
       "      <td>0</td>\n",
       "      <td>199.578024</td>\n",
       "      <td>-9.691870</td>\n",
       "      <td>52.60772</td>\n",
       "      <td>313.87907</td>\n",
       "      <td>-1.32186</td>\n",
       "      <td>201.71886</td>\n",
       "      <td>11.8994</td>\n",
       "      <td>12.471</td>\n",
       "      <td>0</td>\n",
       "      <td>2.0</td>\n",
       "    </tr>\n",
       "    <tr>\n",
       "      <th>3534</th>\n",
       "      <td>1</td>\n",
       "      <td>1</td>\n",
       "      <td>2016</td>\n",
       "      <td>1</td>\n",
       "      <td>333.751879</td>\n",
       "      <td>-17.250800</td>\n",
       "      <td>-52.63220</td>\n",
       "      <td>39.93320</td>\n",
       "      <td>-5.97399</td>\n",
       "      <td>329.44981</td>\n",
       "      <td>12.3071</td>\n",
       "      <td>13.087</td>\n",
       "      <td>1</td>\n",
       "      <td>1.0</td>\n",
       "    </tr>\n",
       "    <tr>\n",
       "      <th>3235</th>\n",
       "      <td>1</td>\n",
       "      <td>1</td>\n",
       "      <td>2021</td>\n",
       "      <td>0</td>\n",
       "      <td>128.321913</td>\n",
       "      <td>13.661376</td>\n",
       "      <td>28.65234</td>\n",
       "      <td>211.64492</td>\n",
       "      <td>-4.96509</td>\n",
       "      <td>127.21099</td>\n",
       "      <td>12.6649</td>\n",
       "      <td>13.438</td>\n",
       "      <td>0</td>\n",
       "      <td>1.0</td>\n",
       "    </tr>\n",
       "  </tbody>\n",
       "</table>\n",
       "</div>"
      ],
      "text/plain": [
       "      default_flag  sy_pnum  disc_year  rv_flag          ra        dec  \\\n",
       "1918             0        3       2024        0  129.689446  23.685265   \n",
       "2120             0        1       2017        0  134.444140  21.453275   \n",
       "1276             0        0       2016        0  199.578024  -9.691870   \n",
       "3534             1        1       2016        1  333.751879 -17.250800   \n",
       "3235             1        1       2021        0  128.321913  13.661376   \n",
       "\n",
       "          glat       glon     elat       elon  sy_tmag  sy_kepmag  pl_nnotes  \\\n",
       "1918  33.43766  201.24412  5.06302  125.94923   6.3687      6.793          0   \n",
       "2120  36.91396  205.51379  4.08587  130.79159  13.1214     14.102          0   \n",
       "1276  52.60772  313.87907 -1.32186  201.71886  11.8994     12.471          0   \n",
       "3534 -52.63220   39.93320 -5.97399  329.44981  12.3071     13.087          1   \n",
       "3235  28.65234  211.64492 -4.96509  127.21099  12.6649     13.438          0   \n",
       "\n",
       "      k2_campaigns_num  \n",
       "1918               2.0  \n",
       "2120               3.0  \n",
       "1276               2.0  \n",
       "3534               1.0  \n",
       "3235               1.0  "
      ]
     },
     "execution_count": 358,
     "metadata": {},
     "output_type": "execute_result"
    }
   ],
   "source": [
    "X_train.head()"
   ]
  },
  {
   "cell_type": "code",
   "execution_count": 359,
   "id": "0a857980",
   "metadata": {},
   "outputs": [
    {
     "data": {
      "application/vnd.microsoft.datawrangler.viewer.v0+json": {
       "columns": [
        {
         "name": "index",
         "rawType": "object",
         "type": "string"
        },
        {
         "name": "0",
         "rawType": "int64",
         "type": "integer"
        }
       ],
       "ref": "a2aee1e1-e934-4f01-a131-fae4f59b6f4b",
       "rows": [
        [
         "default_flag",
         "0"
        ],
        [
         "sy_pnum",
         "0"
        ],
        [
         "disc_year",
         "0"
        ],
        [
         "rv_flag",
         "0"
        ],
        [
         "ra",
         "0"
        ],
        [
         "dec",
         "0"
        ],
        [
         "glat",
         "0"
        ],
        [
         "glon",
         "0"
        ],
        [
         "elat",
         "0"
        ],
        [
         "elon",
         "0"
        ],
        [
         "sy_tmag",
         "3"
        ],
        [
         "sy_kepmag",
         "12"
        ],
        [
         "pl_nnotes",
         "0"
        ],
        [
         "k2_campaigns_num",
         "1"
        ]
       ],
       "shape": {
        "columns": 1,
        "rows": 14
       }
      },
      "text/plain": [
       "default_flag         0\n",
       "sy_pnum              0\n",
       "disc_year            0\n",
       "rv_flag              0\n",
       "ra                   0\n",
       "dec                  0\n",
       "glat                 0\n",
       "glon                 0\n",
       "elat                 0\n",
       "elon                 0\n",
       "sy_tmag              3\n",
       "sy_kepmag           12\n",
       "pl_nnotes            0\n",
       "k2_campaigns_num     1\n",
       "dtype: int64"
      ]
     },
     "execution_count": 359,
     "metadata": {},
     "output_type": "execute_result"
    }
   ],
   "source": [
    "X_train.isna().sum()"
   ]
  },
  {
   "cell_type": "code",
   "execution_count": 360,
   "id": "41ecb425",
   "metadata": {},
   "outputs": [
    {
     "name": "stdout",
     "output_type": "stream",
     "text": [
      "<class 'pandas.core.frame.DataFrame'>\n",
      "Index: 3193 entries, 1918 to 3750\n",
      "Data columns (total 14 columns):\n",
      " #   Column            Non-Null Count  Dtype  \n",
      "---  ------            --------------  -----  \n",
      " 0   default_flag      3193 non-null   int64  \n",
      " 1   sy_pnum           3193 non-null   int64  \n",
      " 2   disc_year         3193 non-null   int64  \n",
      " 3   rv_flag           3193 non-null   int64  \n",
      " 4   ra                3193 non-null   float64\n",
      " 5   dec               3193 non-null   float64\n",
      " 6   glat              3193 non-null   float64\n",
      " 7   glon              3193 non-null   float64\n",
      " 8   elat              3193 non-null   float64\n",
      " 9   elon              3193 non-null   float64\n",
      " 10  sy_tmag           3190 non-null   float64\n",
      " 11  sy_kepmag         3181 non-null   float64\n",
      " 12  pl_nnotes         3193 non-null   int64  \n",
      " 13  k2_campaigns_num  3192 non-null   float64\n",
      "dtypes: float64(9), int64(5)\n",
      "memory usage: 374.2 KB\n"
     ]
    }
   ],
   "source": [
    "X_train.info()"
   ]
  },
  {
   "cell_type": "code",
   "execution_count": 361,
   "id": "c5c2510d",
   "metadata": {},
   "outputs": [
    {
     "name": "stdout",
     "output_type": "stream",
     "text": [
      "<class 'pandas.core.frame.DataFrame'>\n",
      "RangeIndex: 3193 entries, 0 to 3192\n",
      "Data columns (total 14 columns):\n",
      " #   Column            Non-Null Count  Dtype  \n",
      "---  ------            --------------  -----  \n",
      " 0   default_flag      3193 non-null   float64\n",
      " 1   sy_pnum           3193 non-null   float64\n",
      " 2   disc_year         3193 non-null   float64\n",
      " 3   rv_flag           3193 non-null   float64\n",
      " 4   ra                3193 non-null   float64\n",
      " 5   dec               3193 non-null   float64\n",
      " 6   glat              3193 non-null   float64\n",
      " 7   glon              3193 non-null   float64\n",
      " 8   elat              3193 non-null   float64\n",
      " 9   elon              3193 non-null   float64\n",
      " 10  sy_tmag           3193 non-null   float64\n",
      " 11  sy_kepmag         3193 non-null   float64\n",
      " 12  pl_nnotes         3193 non-null   float64\n",
      " 13  k2_campaigns_num  3193 non-null   float64\n",
      "dtypes: float64(14)\n",
      "memory usage: 349.4 KB\n"
     ]
    }
   ],
   "source": [
    "se = SimpleImputer(strategy=\"median\")\n",
    "tt = se.fit_transform(X_train)\n",
    "X_train = pd.DataFrame(tt, columns=X_train.columns)\n",
    "X_train.info()"
   ]
  },
  {
   "cell_type": "code",
   "execution_count": 362,
   "id": "58cb36e0",
   "metadata": {},
   "outputs": [
    {
     "data": {
      "application/vnd.microsoft.datawrangler.viewer.v0+json": {
       "columns": [
        {
         "name": "index",
         "rawType": "int64",
         "type": "integer"
        },
        {
         "name": "default_flag",
         "rawType": "float64",
         "type": "float"
        },
        {
         "name": "sy_pnum",
         "rawType": "float64",
         "type": "float"
        },
        {
         "name": "disc_year",
         "rawType": "float64",
         "type": "float"
        },
        {
         "name": "rv_flag",
         "rawType": "float64",
         "type": "float"
        },
        {
         "name": "ra",
         "rawType": "float64",
         "type": "float"
        },
        {
         "name": "dec",
         "rawType": "float64",
         "type": "float"
        },
        {
         "name": "glat",
         "rawType": "float64",
         "type": "float"
        },
        {
         "name": "glon",
         "rawType": "float64",
         "type": "float"
        },
        {
         "name": "elat",
         "rawType": "float64",
         "type": "float"
        },
        {
         "name": "elon",
         "rawType": "float64",
         "type": "float"
        },
        {
         "name": "sy_tmag",
         "rawType": "float64",
         "type": "float"
        },
        {
         "name": "sy_kepmag",
         "rawType": "float64",
         "type": "float"
        },
        {
         "name": "pl_nnotes",
         "rawType": "float64",
         "type": "float"
        },
        {
         "name": "k2_campaigns_num",
         "rawType": "float64",
         "type": "float"
        }
       ],
       "ref": "b9df9ff3-f432-4ab9-a580-439733f5e84d",
       "rows": [
        [
         "0",
         "-0.909207918411186",
         "1.3566739175784552",
         "3.16080732871277",
         "-0.5714434089117658",
         "-0.546315060604754",
         "1.474130924583901",
         "0.5541133082799887",
         "0.04630935652716795",
         "1.6467397845853908",
         "-0.5864550565651456",
         "-3.5890571189738916",
         "-3.639956390891231",
         "-0.49212110950155363",
         "1.1912713971644213"
        ],
        [
         "1",
         "-0.909207918411186",
         "-0.0904147140661105",
         "-0.26451168239308503",
         "-0.5714434089117658",
         "-0.4956346967731789",
         "1.3271797820021813",
         "0.6370456931328318",
         "0.08933538319007923",
         "1.3897137861964821",
         "-0.5345966949886972",
         "0.5783810223960214",
         "0.7919620345393109",
         "-0.49212110950155363",
         "2.9178849110754506"
        ],
        [
         "2",
         "-0.909207918411186",
         "-0.8139590298883933",
         "-0.7538429696939215",
         "-0.5714434089117658",
         "0.19862835000309556",
         "-0.7233732851203087",
         "1.0114440316272522",
         "1.181346575299506",
         "-0.0327159352051992",
         "0.22498582537128653",
         "-0.1757779671569029",
         "-0.19701853077430456",
         "-0.49212110950155363",
         "1.1912713971644213"
        ],
        [
         "3",
         "1.099858436943082",
         "-0.0904147140661105",
         "-0.7538429696939215",
         "1.7499545613875578",
         "1.6287895010584665",
         "-1.2210427814285694",
         "-1.499213146211948",
         "-1.5792420197943657",
         "-1.2563953681325835",
         "1.5928968831206556",
         "0.07583465153436347",
         "0.17650202608233964",
         "0.7269190011566782",
         "-0.5353421167466079"
        ],
        [
         "4",
         "1.099858436943082",
         "-0.0904147140661105",
         "1.6928134668102608",
         "-0.5714434089117658",
         "-0.5608916070210233",
         "0.8141719696781947",
         "0.4399522750308425",
         "0.15111958732149366",
         "-0.9910179646893353",
         "-0.5729424704908556",
         "0.29665141623324714",
         "0.38933597974578527",
         "-0.49212110950155363",
         "-0.5353421167466079"
        ]
       ],
       "shape": {
        "columns": 14,
        "rows": 5
       }
      },
      "text/html": [
       "<div>\n",
       "<style scoped>\n",
       "    .dataframe tbody tr th:only-of-type {\n",
       "        vertical-align: middle;\n",
       "    }\n",
       "\n",
       "    .dataframe tbody tr th {\n",
       "        vertical-align: top;\n",
       "    }\n",
       "\n",
       "    .dataframe thead th {\n",
       "        text-align: right;\n",
       "    }\n",
       "</style>\n",
       "<table border=\"1\" class=\"dataframe\">\n",
       "  <thead>\n",
       "    <tr style=\"text-align: right;\">\n",
       "      <th></th>\n",
       "      <th>default_flag</th>\n",
       "      <th>sy_pnum</th>\n",
       "      <th>disc_year</th>\n",
       "      <th>rv_flag</th>\n",
       "      <th>ra</th>\n",
       "      <th>dec</th>\n",
       "      <th>glat</th>\n",
       "      <th>glon</th>\n",
       "      <th>elat</th>\n",
       "      <th>elon</th>\n",
       "      <th>sy_tmag</th>\n",
       "      <th>sy_kepmag</th>\n",
       "      <th>pl_nnotes</th>\n",
       "      <th>k2_campaigns_num</th>\n",
       "    </tr>\n",
       "  </thead>\n",
       "  <tbody>\n",
       "    <tr>\n",
       "      <th>0</th>\n",
       "      <td>-0.909208</td>\n",
       "      <td>1.356674</td>\n",
       "      <td>3.160807</td>\n",
       "      <td>-0.571443</td>\n",
       "      <td>-0.546315</td>\n",
       "      <td>1.474131</td>\n",
       "      <td>0.554113</td>\n",
       "      <td>0.046309</td>\n",
       "      <td>1.646740</td>\n",
       "      <td>-0.586455</td>\n",
       "      <td>-3.589057</td>\n",
       "      <td>-3.639956</td>\n",
       "      <td>-0.492121</td>\n",
       "      <td>1.191271</td>\n",
       "    </tr>\n",
       "    <tr>\n",
       "      <th>1</th>\n",
       "      <td>-0.909208</td>\n",
       "      <td>-0.090415</td>\n",
       "      <td>-0.264512</td>\n",
       "      <td>-0.571443</td>\n",
       "      <td>-0.495635</td>\n",
       "      <td>1.327180</td>\n",
       "      <td>0.637046</td>\n",
       "      <td>0.089335</td>\n",
       "      <td>1.389714</td>\n",
       "      <td>-0.534597</td>\n",
       "      <td>0.578381</td>\n",
       "      <td>0.791962</td>\n",
       "      <td>-0.492121</td>\n",
       "      <td>2.917885</td>\n",
       "    </tr>\n",
       "    <tr>\n",
       "      <th>2</th>\n",
       "      <td>-0.909208</td>\n",
       "      <td>-0.813959</td>\n",
       "      <td>-0.753843</td>\n",
       "      <td>-0.571443</td>\n",
       "      <td>0.198628</td>\n",
       "      <td>-0.723373</td>\n",
       "      <td>1.011444</td>\n",
       "      <td>1.181347</td>\n",
       "      <td>-0.032716</td>\n",
       "      <td>0.224986</td>\n",
       "      <td>-0.175778</td>\n",
       "      <td>-0.197019</td>\n",
       "      <td>-0.492121</td>\n",
       "      <td>1.191271</td>\n",
       "    </tr>\n",
       "    <tr>\n",
       "      <th>3</th>\n",
       "      <td>1.099858</td>\n",
       "      <td>-0.090415</td>\n",
       "      <td>-0.753843</td>\n",
       "      <td>1.749955</td>\n",
       "      <td>1.628790</td>\n",
       "      <td>-1.221043</td>\n",
       "      <td>-1.499213</td>\n",
       "      <td>-1.579242</td>\n",
       "      <td>-1.256395</td>\n",
       "      <td>1.592897</td>\n",
       "      <td>0.075835</td>\n",
       "      <td>0.176502</td>\n",
       "      <td>0.726919</td>\n",
       "      <td>-0.535342</td>\n",
       "    </tr>\n",
       "    <tr>\n",
       "      <th>4</th>\n",
       "      <td>1.099858</td>\n",
       "      <td>-0.090415</td>\n",
       "      <td>1.692813</td>\n",
       "      <td>-0.571443</td>\n",
       "      <td>-0.560892</td>\n",
       "      <td>0.814172</td>\n",
       "      <td>0.439952</td>\n",
       "      <td>0.151120</td>\n",
       "      <td>-0.991018</td>\n",
       "      <td>-0.572942</td>\n",
       "      <td>0.296651</td>\n",
       "      <td>0.389336</td>\n",
       "      <td>-0.492121</td>\n",
       "      <td>-0.535342</td>\n",
       "    </tr>\n",
       "  </tbody>\n",
       "</table>\n",
       "</div>"
      ],
      "text/plain": [
       "   default_flag   sy_pnum  disc_year   rv_flag        ra       dec      glat  \\\n",
       "0     -0.909208  1.356674   3.160807 -0.571443 -0.546315  1.474131  0.554113   \n",
       "1     -0.909208 -0.090415  -0.264512 -0.571443 -0.495635  1.327180  0.637046   \n",
       "2     -0.909208 -0.813959  -0.753843 -0.571443  0.198628 -0.723373  1.011444   \n",
       "3      1.099858 -0.090415  -0.753843  1.749955  1.628790 -1.221043 -1.499213   \n",
       "4      1.099858 -0.090415   1.692813 -0.571443 -0.560892  0.814172  0.439952   \n",
       "\n",
       "       glon      elat      elon   sy_tmag  sy_kepmag  pl_nnotes  \\\n",
       "0  0.046309  1.646740 -0.586455 -3.589057  -3.639956  -0.492121   \n",
       "1  0.089335  1.389714 -0.534597  0.578381   0.791962  -0.492121   \n",
       "2  1.181347 -0.032716  0.224986 -0.175778  -0.197019  -0.492121   \n",
       "3 -1.579242 -1.256395  1.592897  0.075835   0.176502   0.726919   \n",
       "4  0.151120 -0.991018 -0.572942  0.296651   0.389336  -0.492121   \n",
       "\n",
       "   k2_campaigns_num  \n",
       "0          1.191271  \n",
       "1          2.917885  \n",
       "2          1.191271  \n",
       "3         -0.535342  \n",
       "4         -0.535342  "
      ]
     },
     "execution_count": 362,
     "metadata": {},
     "output_type": "execute_result"
    }
   ],
   "source": [
    "sa = StandardScaler()\n",
    "X_train = pd.DataFrame(sa.fit_transform(X_train), columns=X_train.columns)\n",
    "X_train.head()"
   ]
  },
  {
   "cell_type": "code",
   "execution_count": 363,
   "id": "c59d25d1",
   "metadata": {},
   "outputs": [
    {
     "data": {
      "application/vnd.microsoft.datawrangler.viewer.v0+json": {
       "columns": [
        {
         "name": "index",
         "rawType": "object",
         "type": "string"
        },
        {
         "name": "0",
         "rawType": "int64",
         "type": "integer"
        }
       ],
       "ref": "293bba26-3d30-4015-9559-7f90286833fa",
       "rows": [
        [
         "default_flag",
         "0"
        ],
        [
         "sy_pnum",
         "0"
        ],
        [
         "disc_year",
         "0"
        ],
        [
         "rv_flag",
         "0"
        ],
        [
         "ra",
         "0"
        ],
        [
         "dec",
         "0"
        ],
        [
         "glat",
         "0"
        ],
        [
         "glon",
         "0"
        ],
        [
         "elat",
         "0"
        ],
        [
         "elon",
         "0"
        ],
        [
         "sy_tmag",
         "0"
        ],
        [
         "sy_kepmag",
         "0"
        ],
        [
         "pl_nnotes",
         "0"
        ],
        [
         "k2_campaigns_num",
         "0"
        ]
       ],
       "shape": {
        "columns": 1,
        "rows": 14
       }
      },
      "text/plain": [
       "default_flag        0\n",
       "sy_pnum             0\n",
       "disc_year           0\n",
       "rv_flag             0\n",
       "ra                  0\n",
       "dec                 0\n",
       "glat                0\n",
       "glon                0\n",
       "elat                0\n",
       "elon                0\n",
       "sy_tmag             0\n",
       "sy_kepmag           0\n",
       "pl_nnotes           0\n",
       "k2_campaigns_num    0\n",
       "dtype: int64"
      ]
     },
     "execution_count": 363,
     "metadata": {},
     "output_type": "execute_result"
    }
   ],
   "source": [
    "X_train.isna().sum()   "
   ]
  },
  {
   "cell_type": "code",
   "execution_count": 364,
   "id": "fa738302",
   "metadata": {},
   "outputs": [],
   "source": [
    "# trans = ColumnTransformer(\n",
    "#     transformers=[\n",
    "#         (\n",
    "#             \"num\",\n",
    "#             SimpleImputer(strategy=\"median\"),\n",
    "#             X_train.select_dtypes(include=[\"int64\", \"float64\"]).columns,\n",
    "#         ),\n",
    "#         (\n",
    "#             \"scaler\",\n",
    "#             StandardScaler(),\n",
    "#             X_train.select_dtypes(include=[\"int64\", \"float64\"]).columns,\n",
    "#         ),\n",
    "#     ]\n",
    "# )"
   ]
  },
  {
   "cell_type": "code",
   "execution_count": 365,
   "id": "5b625ff7",
   "metadata": {},
   "outputs": [],
   "source": [
    "# # svc\n",
    "# svc_pipe = make_pipeline(trans, SVC())\n",
    "# # logistic regression\n",
    "# logreg_pipe = make_pipeline(trans, LogisticRegression(max_iter=1000))\n",
    "# # random forest\n",
    "# rf_pipe = make_pipeline(trans, RandomForestClassifier())\n",
    "# # gradient boosting\n",
    "# gb_pipe = make_pipeline(trans, GradientBoostingClassifier())\n",
    "# # decision tree\n",
    "# dt_pipe = make_pipeline(trans, DecisionTreeClassifier())\n",
    "# # knn\n",
    "# knn_pipe = make_pipeline(trans, KNeighborsClassifier())\n",
    "# # naive bayes\n",
    "# gnb_pipe = make_pipeline(trans, GaussianNB())\n",
    "# # xgboost\n",
    "# xgb_pipe = make_pipeline(\n",
    "#     trans, XGBClassifier(use_label_encoder=False, eval_metric=\"mlogloss\")\n",
    "# )\n",
    "# # lightgbm\n",
    "# lgbm_pipe = make_pipeline(trans, LGBMClassifier())"
   ]
  },
  {
   "cell_type": "code",
   "execution_count": 366,
   "id": "6e9aafe4",
   "metadata": {},
   "outputs": [],
   "source": [
    "# # training \n",
    "# svc_pipe.fit(X_train, y_train)\n",
    "# logreg_pipe.fit(X_train, y_train)\n",
    "# rf_pipe.fit(X_train, y_train)\n",
    "# gb_pipe.fit(X_train, y_train)\n",
    "# dt_pipe.fit(X_train, y_train)\n",
    "# knn_pipe.fit(X_train, y_train)\n",
    "# gnb_pipe.fit(X_train, y_train)\n",
    "# xgb_pipe.fit(X_train, y_train)\n",
    "# lgbm_pipe.fit(X_train, y_train)\n",
    "\n",
    "# # predictions\n",
    "# svc_pred = svc_pipe.predict(X_train)\n",
    "# logreg_pred = logreg_pipe.predict(X_train)\n",
    "# rf_pred = rf_pipe.predict(X_train)\n",
    "# gb_pred = gb_pipe.predict(X_train)\n",
    "# dt_pred = dt_pipe.predict(X_train)\n",
    "# knn_pred = knn_pipe.predict(X_train)\n",
    "# gnb_pred = gnb_pipe.predict(X_train)\n",
    "# xgb_pred = xgb_pipe.predict(X_train)\n",
    "# lgbm_pred = lgbm_pipe.predict(X_train)\n",
    "\n",
    "# # evaluation\n",
    "# print(\"SVC\")\n",
    "# print(classification_report(y_train, svc_pred))\n",
    "# print(\"Logistic Regression\")\n",
    "# print(classification_report(y_train, logreg_pred))\n",
    "# print(\"Random Forest\")\n",
    "# print(classification_report(y_train, rf_pred))\n",
    "# print(\"Gradient Boosting\")\n",
    "# print(classification_report(y_train, gb_pred))\n",
    "# print(\"Decision Tree\")\n",
    "# print(classification_report(y_train, dt_pred))\n",
    "# print(\"KNN\")\n",
    "# print(classification_report(y_train, knn_pred))\n",
    "# print(\"Naive Bayes\")\n",
    "# print(classification_report(y_train, gnb_pred))\n",
    "# print(\"XGBoost\")\n",
    "# print(classification_report(y_train, xgb_pred))\n",
    "# print(\"LightGBM\")\n",
    "# print(classification_report(y_train, lgbm_pred))"
   ]
  },
  {
   "cell_type": "code",
   "execution_count": 367,
   "id": "1fd25c48",
   "metadata": {},
   "outputs": [
    {
     "name": "stdout",
     "output_type": "stream",
     "text": [
      "              precision    recall  f1-score   support\n",
      "\n",
      "   CANDIDATE       1.00      0.98      0.99      1347\n",
      "   CONFIRMED       0.98      1.00      0.99      1846\n",
      "\n",
      "    accuracy                           0.99      3193\n",
      "   macro avg       0.99      0.99      0.99      3193\n",
      "weighted avg       0.99      0.99      0.99      3193\n",
      "\n"
     ]
    }
   ],
   "source": [
    "lg = LogisticRegression(max_iter=1000)\n",
    "lg.fit(X_train, y_train)\n",
    "lg_prd = lg.predict(X_train)\n",
    "print(classification_report(y_train, lg_prd))"
   ]
  },
  {
   "cell_type": "code",
   "execution_count": 368,
   "id": "9c76d551",
   "metadata": {},
   "outputs": [
    {
     "name": "stderr",
     "output_type": "stream",
     "text": [
      "e:\\Samy\\projects\\nasa\\.venv\\Lib\\site-packages\\sklearn\\svm\\_base.py:305: ConvergenceWarning: Solver terminated early (max_iter=1000).  Consider pre-processing your data with StandardScaler or MinMaxScaler.\n",
      "  warnings.warn(\n"
     ]
    },
    {
     "name": "stdout",
     "output_type": "stream",
     "text": [
      "              precision    recall  f1-score   support\n",
      "\n",
      "   CANDIDATE       1.00      0.98      0.99      1347\n",
      "   CONFIRMED       0.98      1.00      0.99      1846\n",
      "\n",
      "    accuracy                           0.99      3193\n",
      "   macro avg       0.99      0.99      0.99      3193\n",
      "weighted avg       0.99      0.99      0.99      3193\n",
      "\n"
     ]
    }
   ],
   "source": [
    "lg = SVC(max_iter=1000)\n",
    "lg.fit(X_train, y_train)\n",
    "lg_prd = lg.predict(X_train)\n",
    "print(classification_report(y_train, lg_prd))"
   ]
  },
  {
   "cell_type": "code",
   "execution_count": 369,
   "id": "4ca2ff09",
   "metadata": {},
   "outputs": [
    {
     "name": "stdout",
     "output_type": "stream",
     "text": [
      "[LightGBM] [Info] Number of positive: 1846, number of negative: 1347\n",
      "[LightGBM] [Info] Auto-choosing col-wise multi-threading, the overhead of testing was 0.002426 seconds.\n",
      "You can set `force_col_wise=true` to remove the overhead.\n",
      "[LightGBM] [Info] Total Bins 2083\n",
      "[LightGBM] [Info] Number of data points in the train set: 3193, number of used features: 14\n",
      "[LightGBM] [Info] [binary:BoostFromScore]: pavg=0.578140 -> initscore=0.315141\n",
      "[LightGBM] [Info] Start training from score 0.315141\n",
      "[LightGBM] [Warning] No further splits with positive gain, best gain: -inf\n",
      "              precision    recall  f1-score   support\n",
      "\n",
      "   CANDIDATE       1.00      1.00      1.00      1347\n",
      "   CONFIRMED       1.00      1.00      1.00      1846\n",
      "\n",
      "    accuracy                           1.00      3193\n",
      "   macro avg       1.00      1.00      1.00      3193\n",
      "weighted avg       1.00      1.00      1.00      3193\n",
      "\n"
     ]
    }
   ],
   "source": [
    "lg = LGBMClassifier()\n",
    "lg.fit(X_train, y_train)\n",
    "lg_prd = lg.predict(X_train)\n",
    "print(classification_report(y_train, lg_prd))"
   ]
  },
  {
   "cell_type": "code",
   "execution_count": 370,
   "id": "2fe8fb66",
   "metadata": {},
   "outputs": [
    {
     "data": {
      "text/plain": [
       "((799, 14), (799,))"
      ]
     },
     "execution_count": 370,
     "metadata": {},
     "output_type": "execute_result"
    }
   ],
   "source": [
    "y_test = replace_values_in_target(\n",
    "    replace_names=replace_names, target=y_test, new_value=\"CANDIDATE\"\n",
    ")\n",
    "\n",
    "X_test = drop_unwanted_features(features=unwanted_numerical, data=X_test)\n",
    "X_test = drop_unwanted_features(features=categorical_cols_to_drop, data=X_test)\n",
    "X_test.shape, y_test.shape\n",
    "X_test = pd.DataFrame(se.transform(X_test), columns=X_test.columns)\n",
    "X_test = pd.DataFrame(sa.transform(X_test), columns=X_test.columns)\n",
    "X_test.shape, y_test.shape"
   ]
  },
  {
   "cell_type": "code",
   "execution_count": 371,
   "id": "51caf41f",
   "metadata": {},
   "outputs": [
    {
     "name": "stdout",
     "output_type": "stream",
     "text": [
      "              precision    recall  f1-score   support\n",
      "\n",
      "   CANDIDATE       1.00      0.99      0.99       337\n",
      "   CONFIRMED       0.99      1.00      0.99       462\n",
      "\n",
      "    accuracy                           0.99       799\n",
      "   macro avg       0.99      0.99      0.99       799\n",
      "weighted avg       0.99      0.99      0.99       799\n",
      "\n"
     ]
    }
   ],
   "source": [
    "lg_prd = lg.predict(X_test)\n",
    "print(classification_report(y_test, lg_prd))"
   ]
  }
 ],
 "metadata": {
  "kernelspec": {
   "display_name": "nasa",
   "language": "python",
   "name": "python3"
  },
  "language_info": {
   "codemirror_mode": {
    "name": "ipython",
    "version": 3
   },
   "file_extension": ".py",
   "mimetype": "text/x-python",
   "name": "python",
   "nbconvert_exporter": "python",
   "pygments_lexer": "ipython3",
   "version": "3.11.9"
  }
 },
 "nbformat": 4,
 "nbformat_minor": 5
}
